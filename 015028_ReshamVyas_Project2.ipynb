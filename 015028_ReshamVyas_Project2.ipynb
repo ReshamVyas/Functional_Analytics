{
  "metadata": {
    "kernelspec": {
      "language": "python",
      "display_name": "Python 3",
      "name": "python3"
    },
    "language_info": {
      "name": "python",
      "version": "3.7.9",
      "mimetype": "text/x-python",
      "codemirror_mode": {
        "name": "ipython",
        "version": 3
      },
      "pygments_lexer": "ipython3",
      "nbconvert_exporter": "python",
      "file_extension": ".py"
    },
    "colab": {
      "name": "015028_ReshamVyas_Project2.ipynb",
      "provenance": []
    }
  },
  "nbformat_minor": 0,
  "nbformat": 4,
  "cells": [
    {
      "cell_type": "markdown",
      "source": [
        "# Sentiment Analysis with BERT\n",
        "\n",
        "> The project contains text preprocessing (special tokens, padding, and attention masks) and building a Sentiment Classifier using the Transformers library by Hugging Face\n",
        "- Preprocess text data for BERT and build PyTorch Dataset (tokenization, attention masks, and padding)\n",
        "- Use Transfer Learning to build Sentiment Classifier using the Transformers library by Hugging Face\n",
        "- Evaluate the model on test data\n",
        "- Predict sentiment on raw text\n"
      ],
      "metadata": {
        "id": "vSM3-PEYc5y2"
      }
    },
    {
      "cell_type": "markdown",
      "source": [
        "## Setup\n",
        "\n"
      ],
      "metadata": {
        "id": "D-Tv5ujgc5y5"
      }
    },
    {
      "cell_type": "code",
      "source": [
        "# !pip install tokenizers==0.9.4\n",
        "# !pip install tokenizers==0.9.4\n",
        "# !pip install simpletransformers\n",
        "!pip install transformers==3\n",
        "# !pip install simpletransformers"
      ],
      "metadata": {
        "trusted": true,
        "colab": {
          "base_uri": "https://localhost:8080/"
        },
        "id": "S5_fu9SIc5y6",
        "outputId": "8ace8b2b-2e92-4d95-b421-cb4a6de197de"
      },
      "execution_count": 1,
      "outputs": [
        {
          "output_type": "stream",
          "name": "stdout",
          "text": [
            "Collecting transformers==3\n",
            "  Downloading transformers-3.0.0-py3-none-any.whl (754 kB)\n",
            "\u001b[K     |████████████████████████████████| 754 kB 5.2 MB/s \n",
            "\u001b[?25hCollecting tokenizers==0.8.0-rc4\n",
            "  Downloading tokenizers-0.8.0rc4-cp37-cp37m-manylinux1_x86_64.whl (3.0 MB)\n",
            "\u001b[K     |████████████████████████████████| 3.0 MB 45.9 MB/s \n",
            "\u001b[?25hCollecting sentencepiece\n",
            "  Downloading sentencepiece-0.1.96-cp37-cp37m-manylinux_2_17_x86_64.manylinux2014_x86_64.whl (1.2 MB)\n",
            "\u001b[K     |████████████████████████████████| 1.2 MB 57.4 MB/s \n",
            "\u001b[?25hRequirement already satisfied: filelock in /usr/local/lib/python3.7/dist-packages (from transformers==3) (3.4.0)\n",
            "Requirement already satisfied: regex!=2019.12.17 in /usr/local/lib/python3.7/dist-packages (from transformers==3) (2019.12.20)\n",
            "Requirement already satisfied: numpy in /usr/local/lib/python3.7/dist-packages (from transformers==3) (1.19.5)\n",
            "Requirement already satisfied: tqdm>=4.27 in /usr/local/lib/python3.7/dist-packages (from transformers==3) (4.62.3)\n",
            "Requirement already satisfied: packaging in /usr/local/lib/python3.7/dist-packages (from transformers==3) (21.3)\n",
            "Collecting sacremoses\n",
            "  Downloading sacremoses-0.0.46-py3-none-any.whl (895 kB)\n",
            "\u001b[K     |████████████████████████████████| 895 kB 58.5 MB/s \n",
            "\u001b[?25hRequirement already satisfied: requests in /usr/local/lib/python3.7/dist-packages (from transformers==3) (2.23.0)\n",
            "Requirement already satisfied: pyparsing!=3.0.5,>=2.0.2 in /usr/local/lib/python3.7/dist-packages (from packaging->transformers==3) (3.0.6)\n",
            "Requirement already satisfied: idna<3,>=2.5 in /usr/local/lib/python3.7/dist-packages (from requests->transformers==3) (2.10)\n",
            "Requirement already satisfied: urllib3!=1.25.0,!=1.25.1,<1.26,>=1.21.1 in /usr/local/lib/python3.7/dist-packages (from requests->transformers==3) (1.24.3)\n",
            "Requirement already satisfied: certifi>=2017.4.17 in /usr/local/lib/python3.7/dist-packages (from requests->transformers==3) (2021.10.8)\n",
            "Requirement already satisfied: chardet<4,>=3.0.2 in /usr/local/lib/python3.7/dist-packages (from requests->transformers==3) (3.0.4)\n",
            "Requirement already satisfied: six in /usr/local/lib/python3.7/dist-packages (from sacremoses->transformers==3) (1.15.0)\n",
            "Requirement already satisfied: click in /usr/local/lib/python3.7/dist-packages (from sacremoses->transformers==3) (7.1.2)\n",
            "Requirement already satisfied: joblib in /usr/local/lib/python3.7/dist-packages (from sacremoses->transformers==3) (1.1.0)\n",
            "Installing collected packages: tokenizers, sentencepiece, sacremoses, transformers\n",
            "Successfully installed sacremoses-0.0.46 sentencepiece-0.1.96 tokenizers-0.8.0rc4 transformers-3.0.0\n"
          ]
        }
      ]
    },
    {
      "cell_type": "code",
      "source": [
        "# !pip install transformers -U"
      ],
      "metadata": {
        "trusted": true,
        "id": "GOaEGGLLc5y7"
      },
      "execution_count": 2,
      "outputs": []
    },
    {
      "cell_type": "code",
      "source": [
        "!pip install -q -U watermark\n",
        "%reload_ext watermark\n",
        "%watermark -v -p numpy,pandas,torch,transformers"
      ],
      "metadata": {
        "trusted": true,
        "colab": {
          "base_uri": "https://localhost:8080/"
        },
        "id": "CKk7UmACc5y7",
        "outputId": "a01b0e70-cf38-4f30-cef2-8a2d8078af08"
      },
      "execution_count": 3,
      "outputs": [
        {
          "output_type": "stream",
          "name": "stdout",
          "text": [
            "\u001b[31mERROR: pip's dependency resolver does not currently take into account all the packages that are installed. This behaviour is the source of the following dependency conflicts.\n",
            "markdown 3.3.6 requires importlib-metadata>=4.4; python_version < \"3.10\", but you have importlib-metadata 2.1.2 which is incompatible.\u001b[0m\n",
            "Python implementation: CPython\n",
            "Python version       : 3.7.12\n",
            "IPython version      : 5.5.0\n",
            "\n",
            "numpy       : 1.19.5\n",
            "pandas      : 1.1.5\n",
            "torch       : 1.10.0+cu111\n",
            "transformers: 3.0.0\n",
            "\n"
          ]
        }
      ]
    },
    {
      "cell_type": "markdown",
      "source": [
        "## Import Packages"
      ],
      "metadata": {
        "id": "97YEJmLPc5y7"
      }
    },
    {
      "cell_type": "code",
      "source": [
        "import transformers\n",
        "from transformers import BertModel, BertTokenizer, AdamW, get_linear_schedule_with_warmup\n",
        "\n",
        "import torch\n",
        "from torch import nn, optim\n",
        "import torch.nn.functional as F\n",
        "from torch.utils.data import Dataset, DataLoader\n",
        "\n",
        "import numpy as np\n",
        "import pandas as pd\n",
        "pd.set_option('max_columns', None)\n",
        "\n",
        "import seaborn as sns\n",
        "from pylab import rcParams\n",
        "import matplotlib.pyplot as plt\n",
        "from matplotlib import rc\n",
        "\n",
        "from sklearn.model_selection import train_test_split\n",
        "from sklearn.metrics import confusion_matrix, classification_report\n",
        "\n",
        "from collections import defaultdict\n",
        "from textwrap import wrap\n",
        "\n",
        "import os\n",
        "\n",
        "from IPython.core.interactiveshell import InteractiveShell\n",
        "InteractiveShell.ast_node_interactivity = \"all\"\n",
        "\n",
        "import warnings\n",
        "warnings.filterwarnings('ignore')\n",
        "\n",
        "%matplotlib inline\n",
        "%config InlineBackend.figure_format='retina'\n",
        "sns.set(style='whitegrid', palette='muted', font_scale=1.2)\n",
        "HAPPY_COLORS_PALETTE = [\"#01BEFE\", \"#FFDD00\", \"#FF7D00\", \"#FF006D\", \"#ADFF02\", \"#8F00FF\"]\n",
        "sns.set_palette(sns.color_palette(HAPPY_COLORS_PALETTE))\n",
        "rcParams['figure.figsize'] = 12, 8\n",
        "RANDOM_SEED = 42\n",
        "np.random.seed(RANDOM_SEED)\n",
        "torch.manual_seed(RANDOM_SEED)\n",
        "device = torch.device(\"cuda:0\" if torch.cuda.is_available() else \"cpu\")"
      ],
      "metadata": {
        "trusted": true,
        "id": "R4tHjB4Xc5y7"
      },
      "execution_count": null,
      "outputs": []
    },
    {
      "cell_type": "code",
      "source": [
        "device"
      ],
      "metadata": {
        "trusted": true,
        "id": "lMRi6fejc5y8",
        "outputId": "e6d61710-31f4-4712-a438-297c3751361f"
      },
      "execution_count": null,
      "outputs": [
        {
          "execution_count": 5,
          "output_type": "execute_result",
          "data": {
            "text/plain": "device(type='cuda', index=0)"
          },
          "metadata": {}
        }
      ]
    },
    {
      "cell_type": "code",
      "source": [
        "!export CUDA_LAUNCH_BLOCKING=1\n"
      ],
      "metadata": {
        "trusted": true,
        "id": "bF6qDSRxc5y8"
      },
      "execution_count": null,
      "outputs": []
    },
    {
      "cell_type": "code",
      "source": [
        "for dirname, _, filenames in os.walk('/kaggle/input'):\n",
        "    for filename in filenames:\n",
        "        print(os.path.join(dirname, filename))\n",
        "\n"
      ],
      "metadata": {
        "_uuid": "8f2839f25d086af736a60e9eeb907d3b93b6e0e5",
        "_cell_guid": "b1076dfc-b9ad-4769-8c92-a6c4dae69d19",
        "trusted": true,
        "id": "lwe4yM4Cc5y8",
        "outputId": "f47786ff-91bd-480b-8b68-4e2a57eeb10f"
      },
      "execution_count": null,
      "outputs": [
        {
          "name": "stdout",
          "text": "/kaggle/input/consumer-reviews-of-amazon-products/Datafiniti_Amazon_Consumer_Reviews_of_Amazon_Products.csv\n/kaggle/input/consumer-reviews-of-amazon-products/1429_1.csv\n/kaggle/input/consumer-reviews-of-amazon-products/Datafiniti_Amazon_Consumer_Reviews_of_Amazon_Products_May19.csv\n",
          "output_type": "stream"
        }
      ]
    },
    {
      "cell_type": "markdown",
      "source": [
        "## Data Exploration\n"
      ],
      "metadata": {
        "id": "FzwjxFhDc5y9"
      }
    },
    {
      "cell_type": "markdown",
      "source": [
        "Reading the 3 files"
      ],
      "metadata": {
        "id": "iXQuS_Eec5y9"
      }
    },
    {
      "cell_type": "code",
      "source": [
        "df1 = pd.read_csv('/kaggle/input/consumer-reviews-of-amazon-products/Datafiniti_Amazon_Consumer_Reviews_of_Amazon_Products.csv')\n",
        "df2 = pd.read_csv('/kaggle/input/consumer-reviews-of-amazon-products/1429_1.csv')\n",
        "df3 = pd.read_csv('/kaggle/input/consumer-reviews-of-amazon-products/Datafiniti_Amazon_Consumer_Reviews_of_Amazon_Products_May19.csv')"
      ],
      "metadata": {
        "trusted": true,
        "id": "amyVoBI1c5y9"
      },
      "execution_count": null,
      "outputs": []
    },
    {
      "cell_type": "code",
      "source": [
        "df1.head()\n",
        "df2.head()\n",
        "df3.head()"
      ],
      "metadata": {
        "trusted": true,
        "id": "YXIZq1aYc5y9",
        "outputId": "11c6285b-7b9f-43bc-afc9-38bbce9cdb36"
      },
      "execution_count": null,
      "outputs": [
        {
          "execution_count": 9,
          "output_type": "execute_result",
          "data": {
            "text/plain": "                     id             dateAdded           dateUpdated  \\\n0  AVqVGZNvQMlgsOJE6eUY  2017-03-03T16:56:05Z  2018-10-25T16:36:31Z   \n1  AVqVGZNvQMlgsOJE6eUY  2017-03-03T16:56:05Z  2018-10-25T16:36:31Z   \n2  AVqVGZNvQMlgsOJE6eUY  2017-03-03T16:56:05Z  2018-10-25T16:36:31Z   \n3  AVqVGZNvQMlgsOJE6eUY  2017-03-03T16:56:05Z  2018-10-25T16:36:31Z   \n4  AVqVGZNvQMlgsOJE6eUY  2017-03-03T16:56:05Z  2018-10-25T16:36:31Z   \n\n                                                name       asins   brand  \\\n0  Amazon Kindle E-Reader 6\" Wifi (8th Generation...  B00ZV9PXP2  Amazon   \n1  Amazon Kindle E-Reader 6\" Wifi (8th Generation...  B00ZV9PXP2  Amazon   \n2  Amazon Kindle E-Reader 6\" Wifi (8th Generation...  B00ZV9PXP2  Amazon   \n3  Amazon Kindle E-Reader 6\" Wifi (8th Generation...  B00ZV9PXP2  Amazon   \n4  Amazon Kindle E-Reader 6\" Wifi (8th Generation...  B00ZV9PXP2  Amazon   \n\n                                          categories primaryCategories  \\\n0  Computers,Electronics Features,Tablets,Electro...       Electronics   \n1  Computers,Electronics Features,Tablets,Electro...       Electronics   \n2  Computers,Electronics Features,Tablets,Electro...       Electronics   \n3  Computers,Electronics Features,Tablets,Electro...       Electronics   \n4  Computers,Electronics Features,Tablets,Electro...       Electronics   \n\n                                           imageURLs  \\\n0  https://pisces.bbystatic.com/image2/BestBuy_US...   \n1  https://pisces.bbystatic.com/image2/BestBuy_US...   \n2  https://pisces.bbystatic.com/image2/BestBuy_US...   \n3  https://pisces.bbystatic.com/image2/BestBuy_US...   \n4  https://pisces.bbystatic.com/image2/BestBuy_US...   \n\n                                                keys manufacturer  \\\n0  allnewkindleereaderblack6glarefreetouchscreend...       Amazon   \n1  allnewkindleereaderblack6glarefreetouchscreend...       Amazon   \n2  allnewkindleereaderblack6glarefreetouchscreend...       Amazon   \n3  allnewkindleereaderblack6glarefreetouchscreend...       Amazon   \n4  allnewkindleereaderblack6glarefreetouchscreend...       Amazon   \n\n  manufacturerNumber              reviews.date reviews.dateAdded  \\\n0         B00ZV9PXP2  2017-09-03T00:00:00.000Z               NaN   \n1         B00ZV9PXP2  2017-06-06T00:00:00.000Z               NaN   \n2         B00ZV9PXP2  2018-04-20T00:00:00.000Z               NaN   \n3         B00ZV9PXP2  2017-11-02T17:33:31.000Z               NaN   \n4         B00ZV9PXP2  2018-04-24T00:00:00.000Z               NaN   \n\n                                    reviews.dateSeen  reviews.doRecommend  \\\n0  2018-05-27T00:00:00Z,2017-09-18T00:00:00Z,2017...                False   \n1  2018-05-27T00:00:00Z,2017-07-07T00:00:00Z,2017...                 True   \n2                               2018-05-27T00:00:00Z                 True   \n3                               2018-10-09T00:00:00Z                 True   \n4                               2018-05-27T00:00:00Z                 True   \n\n    reviews.id  reviews.numHelpful  reviews.rating  \\\n0          NaN                   0               3   \n1          NaN                   0               5   \n2          NaN                   0               4   \n3  177283626.0                   3               5   \n4          NaN                   0               5   \n\n                                  reviews.sourceURLs  \\\n0  http://reviews.bestbuy.com/3545/5442403/review...   \n1  http://reviews.bestbuy.com/3545/5442403/review...   \n2  https://reviews.bestbuy.com/3545/5442403/revie...   \n3  https://redsky.target.com/groot-domain-api/v1/...   \n4  https://reviews.bestbuy.com/3545/5442403/revie...   \n\n                                        reviews.text  \\\n0  I thought it would be as big as small paper bu...   \n1  This kindle is light and easy to use especiall...   \n2  Didnt know how much i'd use a kindle so went f...   \n3  I am 100 happy with my purchase. I caught it o...   \n4  Solid entry level Kindle. Great for kids. Gift...   \n\n                                  reviews.title reviews.username  \\\n0                                     Too small           llyyue   \n1  Great light reader. Easy to use at the beach           Charmi   \n2                           Great for the price     johnnyjojojo   \n3                                   A Great Buy          Kdperry   \n4      Solid entry-level Kindle. Great for kids      Johnnyblack   \n\n                                          sourceURLs  \n0  https://www.newegg.com/Product/Product.aspx%25...  \n1  https://www.newegg.com/Product/Product.aspx%25...  \n2  https://www.newegg.com/Product/Product.aspx%25...  \n3  https://www.newegg.com/Product/Product.aspx%25...  \n4  https://www.newegg.com/Product/Product.aspx%25...  ",
            "text/html": "<div>\n<style scoped>\n    .dataframe tbody tr th:only-of-type {\n        vertical-align: middle;\n    }\n\n    .dataframe tbody tr th {\n        vertical-align: top;\n    }\n\n    .dataframe thead th {\n        text-align: right;\n    }\n</style>\n<table border=\"1\" class=\"dataframe\">\n  <thead>\n    <tr style=\"text-align: right;\">\n      <th></th>\n      <th>id</th>\n      <th>dateAdded</th>\n      <th>dateUpdated</th>\n      <th>name</th>\n      <th>asins</th>\n      <th>brand</th>\n      <th>categories</th>\n      <th>primaryCategories</th>\n      <th>imageURLs</th>\n      <th>keys</th>\n      <th>manufacturer</th>\n      <th>manufacturerNumber</th>\n      <th>reviews.date</th>\n      <th>reviews.dateAdded</th>\n      <th>reviews.dateSeen</th>\n      <th>reviews.doRecommend</th>\n      <th>reviews.id</th>\n      <th>reviews.numHelpful</th>\n      <th>reviews.rating</th>\n      <th>reviews.sourceURLs</th>\n      <th>reviews.text</th>\n      <th>reviews.title</th>\n      <th>reviews.username</th>\n      <th>sourceURLs</th>\n    </tr>\n  </thead>\n  <tbody>\n    <tr>\n      <th>0</th>\n      <td>AVqVGZNvQMlgsOJE6eUY</td>\n      <td>2017-03-03T16:56:05Z</td>\n      <td>2018-10-25T16:36:31Z</td>\n      <td>Amazon Kindle E-Reader 6\" Wifi (8th Generation...</td>\n      <td>B00ZV9PXP2</td>\n      <td>Amazon</td>\n      <td>Computers,Electronics Features,Tablets,Electro...</td>\n      <td>Electronics</td>\n      <td>https://pisces.bbystatic.com/image2/BestBuy_US...</td>\n      <td>allnewkindleereaderblack6glarefreetouchscreend...</td>\n      <td>Amazon</td>\n      <td>B00ZV9PXP2</td>\n      <td>2017-09-03T00:00:00.000Z</td>\n      <td>NaN</td>\n      <td>2018-05-27T00:00:00Z,2017-09-18T00:00:00Z,2017...</td>\n      <td>False</td>\n      <td>NaN</td>\n      <td>0</td>\n      <td>3</td>\n      <td>http://reviews.bestbuy.com/3545/5442403/review...</td>\n      <td>I thought it would be as big as small paper bu...</td>\n      <td>Too small</td>\n      <td>llyyue</td>\n      <td>https://www.newegg.com/Product/Product.aspx%25...</td>\n    </tr>\n    <tr>\n      <th>1</th>\n      <td>AVqVGZNvQMlgsOJE6eUY</td>\n      <td>2017-03-03T16:56:05Z</td>\n      <td>2018-10-25T16:36:31Z</td>\n      <td>Amazon Kindle E-Reader 6\" Wifi (8th Generation...</td>\n      <td>B00ZV9PXP2</td>\n      <td>Amazon</td>\n      <td>Computers,Electronics Features,Tablets,Electro...</td>\n      <td>Electronics</td>\n      <td>https://pisces.bbystatic.com/image2/BestBuy_US...</td>\n      <td>allnewkindleereaderblack6glarefreetouchscreend...</td>\n      <td>Amazon</td>\n      <td>B00ZV9PXP2</td>\n      <td>2017-06-06T00:00:00.000Z</td>\n      <td>NaN</td>\n      <td>2018-05-27T00:00:00Z,2017-07-07T00:00:00Z,2017...</td>\n      <td>True</td>\n      <td>NaN</td>\n      <td>0</td>\n      <td>5</td>\n      <td>http://reviews.bestbuy.com/3545/5442403/review...</td>\n      <td>This kindle is light and easy to use especiall...</td>\n      <td>Great light reader. Easy to use at the beach</td>\n      <td>Charmi</td>\n      <td>https://www.newegg.com/Product/Product.aspx%25...</td>\n    </tr>\n    <tr>\n      <th>2</th>\n      <td>AVqVGZNvQMlgsOJE6eUY</td>\n      <td>2017-03-03T16:56:05Z</td>\n      <td>2018-10-25T16:36:31Z</td>\n      <td>Amazon Kindle E-Reader 6\" Wifi (8th Generation...</td>\n      <td>B00ZV9PXP2</td>\n      <td>Amazon</td>\n      <td>Computers,Electronics Features,Tablets,Electro...</td>\n      <td>Electronics</td>\n      <td>https://pisces.bbystatic.com/image2/BestBuy_US...</td>\n      <td>allnewkindleereaderblack6glarefreetouchscreend...</td>\n      <td>Amazon</td>\n      <td>B00ZV9PXP2</td>\n      <td>2018-04-20T00:00:00.000Z</td>\n      <td>NaN</td>\n      <td>2018-05-27T00:00:00Z</td>\n      <td>True</td>\n      <td>NaN</td>\n      <td>0</td>\n      <td>4</td>\n      <td>https://reviews.bestbuy.com/3545/5442403/revie...</td>\n      <td>Didnt know how much i'd use a kindle so went f...</td>\n      <td>Great for the price</td>\n      <td>johnnyjojojo</td>\n      <td>https://www.newegg.com/Product/Product.aspx%25...</td>\n    </tr>\n    <tr>\n      <th>3</th>\n      <td>AVqVGZNvQMlgsOJE6eUY</td>\n      <td>2017-03-03T16:56:05Z</td>\n      <td>2018-10-25T16:36:31Z</td>\n      <td>Amazon Kindle E-Reader 6\" Wifi (8th Generation...</td>\n      <td>B00ZV9PXP2</td>\n      <td>Amazon</td>\n      <td>Computers,Electronics Features,Tablets,Electro...</td>\n      <td>Electronics</td>\n      <td>https://pisces.bbystatic.com/image2/BestBuy_US...</td>\n      <td>allnewkindleereaderblack6glarefreetouchscreend...</td>\n      <td>Amazon</td>\n      <td>B00ZV9PXP2</td>\n      <td>2017-11-02T17:33:31.000Z</td>\n      <td>NaN</td>\n      <td>2018-10-09T00:00:00Z</td>\n      <td>True</td>\n      <td>177283626.0</td>\n      <td>3</td>\n      <td>5</td>\n      <td>https://redsky.target.com/groot-domain-api/v1/...</td>\n      <td>I am 100 happy with my purchase. I caught it o...</td>\n      <td>A Great Buy</td>\n      <td>Kdperry</td>\n      <td>https://www.newegg.com/Product/Product.aspx%25...</td>\n    </tr>\n    <tr>\n      <th>4</th>\n      <td>AVqVGZNvQMlgsOJE6eUY</td>\n      <td>2017-03-03T16:56:05Z</td>\n      <td>2018-10-25T16:36:31Z</td>\n      <td>Amazon Kindle E-Reader 6\" Wifi (8th Generation...</td>\n      <td>B00ZV9PXP2</td>\n      <td>Amazon</td>\n      <td>Computers,Electronics Features,Tablets,Electro...</td>\n      <td>Electronics</td>\n      <td>https://pisces.bbystatic.com/image2/BestBuy_US...</td>\n      <td>allnewkindleereaderblack6glarefreetouchscreend...</td>\n      <td>Amazon</td>\n      <td>B00ZV9PXP2</td>\n      <td>2018-04-24T00:00:00.000Z</td>\n      <td>NaN</td>\n      <td>2018-05-27T00:00:00Z</td>\n      <td>True</td>\n      <td>NaN</td>\n      <td>0</td>\n      <td>5</td>\n      <td>https://reviews.bestbuy.com/3545/5442403/revie...</td>\n      <td>Solid entry level Kindle. Great for kids. Gift...</td>\n      <td>Solid entry-level Kindle. Great for kids</td>\n      <td>Johnnyblack</td>\n      <td>https://www.newegg.com/Product/Product.aspx%25...</td>\n    </tr>\n  </tbody>\n</table>\n</div>"
          },
          "metadata": {}
        },
        {
          "execution_count": 9,
          "output_type": "execute_result",
          "data": {
            "text/plain": "                     id                                               name  \\\n0  AVqkIhwDv8e3D1O-lebb  All-New Fire HD 8 Tablet, 8 HD Display, Wi-Fi,...   \n1  AVqkIhwDv8e3D1O-lebb  All-New Fire HD 8 Tablet, 8 HD Display, Wi-Fi,...   \n2  AVqkIhwDv8e3D1O-lebb  All-New Fire HD 8 Tablet, 8 HD Display, Wi-Fi,...   \n3  AVqkIhwDv8e3D1O-lebb  All-New Fire HD 8 Tablet, 8 HD Display, Wi-Fi,...   \n4  AVqkIhwDv8e3D1O-lebb  All-New Fire HD 8 Tablet, 8 HD Display, Wi-Fi,...   \n\n        asins   brand                                         categories  \\\n0  B01AHB9CN2  Amazon  Electronics,iPad & Tablets,All Tablets,Fire Ta...   \n1  B01AHB9CN2  Amazon  Electronics,iPad & Tablets,All Tablets,Fire Ta...   \n2  B01AHB9CN2  Amazon  Electronics,iPad & Tablets,All Tablets,Fire Ta...   \n3  B01AHB9CN2  Amazon  Electronics,iPad & Tablets,All Tablets,Fire Ta...   \n4  B01AHB9CN2  Amazon  Electronics,iPad & Tablets,All Tablets,Fire Ta...   \n\n                                                keys manufacturer  \\\n0  841667104676,amazon/53004484,amazon/b01ahb9cn2...       Amazon   \n1  841667104676,amazon/53004484,amazon/b01ahb9cn2...       Amazon   \n2  841667104676,amazon/53004484,amazon/b01ahb9cn2...       Amazon   \n3  841667104676,amazon/53004484,amazon/b01ahb9cn2...       Amazon   \n4  841667104676,amazon/53004484,amazon/b01ahb9cn2...       Amazon   \n\n               reviews.date     reviews.dateAdded  \\\n0  2017-01-13T00:00:00.000Z  2017-07-03T23:33:15Z   \n1  2017-01-13T00:00:00.000Z  2017-07-03T23:33:15Z   \n2  2017-01-13T00:00:00.000Z  2017-07-03T23:33:15Z   \n3  2017-01-13T00:00:00.000Z  2017-07-03T23:33:15Z   \n4  2017-01-12T00:00:00.000Z  2017-07-03T23:33:15Z   \n\n                                    reviews.dateSeen reviews.didPurchase  \\\n0  2017-06-07T09:04:00.000Z,2017-04-30T00:45:00.000Z                 NaN   \n1  2017-06-07T09:04:00.000Z,2017-04-30T00:45:00.000Z                 NaN   \n2  2017-06-07T09:04:00.000Z,2017-04-30T00:45:00.000Z                 NaN   \n3  2017-06-07T09:04:00.000Z,2017-04-30T00:45:00.000Z                 NaN   \n4  2017-06-07T09:04:00.000Z,2017-04-30T00:45:00.000Z                 NaN   \n\n  reviews.doRecommend  reviews.id  reviews.numHelpful  reviews.rating  \\\n0                True         NaN                 0.0             5.0   \n1                True         NaN                 0.0             5.0   \n2                True         NaN                 0.0             5.0   \n3                True         NaN                 0.0             4.0   \n4                True         NaN                 0.0             5.0   \n\n                                  reviews.sourceURLs  \\\n0  http://reviews.bestbuy.com/3545/5620406/review...   \n1  http://reviews.bestbuy.com/3545/5620406/review...   \n2  http://reviews.bestbuy.com/3545/5620406/review...   \n3  http://reviews.bestbuy.com/3545/5620406/review...   \n4  http://reviews.bestbuy.com/3545/5620406/review...   \n\n                                        reviews.text  \\\n0  This product so far has not disappointed. My c...   \n1  great for beginner or experienced person. Boug...   \n2  Inexpensive tablet for him to use and learn on...   \n3  I've had my Fire HD 8 two weeks now and I love...   \n4  I bought this for my grand daughter when she c...   \n\n                             reviews.title  reviews.userCity  \\\n0                                   Kindle               NaN   \n1                                very fast               NaN   \n2  Beginner tablet for our 9 year old son.               NaN   \n3                                  Good!!!               NaN   \n4                Fantastic Tablet for kids               NaN   \n\n   reviews.userProvince reviews.username  \n0                   NaN          Adapter  \n1                   NaN           truman  \n2                   NaN            DaveZ  \n3                   NaN           Shacks  \n4                   NaN        explore42  ",
            "text/html": "<div>\n<style scoped>\n    .dataframe tbody tr th:only-of-type {\n        vertical-align: middle;\n    }\n\n    .dataframe tbody tr th {\n        vertical-align: top;\n    }\n\n    .dataframe thead th {\n        text-align: right;\n    }\n</style>\n<table border=\"1\" class=\"dataframe\">\n  <thead>\n    <tr style=\"text-align: right;\">\n      <th></th>\n      <th>id</th>\n      <th>name</th>\n      <th>asins</th>\n      <th>brand</th>\n      <th>categories</th>\n      <th>keys</th>\n      <th>manufacturer</th>\n      <th>reviews.date</th>\n      <th>reviews.dateAdded</th>\n      <th>reviews.dateSeen</th>\n      <th>reviews.didPurchase</th>\n      <th>reviews.doRecommend</th>\n      <th>reviews.id</th>\n      <th>reviews.numHelpful</th>\n      <th>reviews.rating</th>\n      <th>reviews.sourceURLs</th>\n      <th>reviews.text</th>\n      <th>reviews.title</th>\n      <th>reviews.userCity</th>\n      <th>reviews.userProvince</th>\n      <th>reviews.username</th>\n    </tr>\n  </thead>\n  <tbody>\n    <tr>\n      <th>0</th>\n      <td>AVqkIhwDv8e3D1O-lebb</td>\n      <td>All-New Fire HD 8 Tablet, 8 HD Display, Wi-Fi,...</td>\n      <td>B01AHB9CN2</td>\n      <td>Amazon</td>\n      <td>Electronics,iPad &amp; Tablets,All Tablets,Fire Ta...</td>\n      <td>841667104676,amazon/53004484,amazon/b01ahb9cn2...</td>\n      <td>Amazon</td>\n      <td>2017-01-13T00:00:00.000Z</td>\n      <td>2017-07-03T23:33:15Z</td>\n      <td>2017-06-07T09:04:00.000Z,2017-04-30T00:45:00.000Z</td>\n      <td>NaN</td>\n      <td>True</td>\n      <td>NaN</td>\n      <td>0.0</td>\n      <td>5.0</td>\n      <td>http://reviews.bestbuy.com/3545/5620406/review...</td>\n      <td>This product so far has not disappointed. My c...</td>\n      <td>Kindle</td>\n      <td>NaN</td>\n      <td>NaN</td>\n      <td>Adapter</td>\n    </tr>\n    <tr>\n      <th>1</th>\n      <td>AVqkIhwDv8e3D1O-lebb</td>\n      <td>All-New Fire HD 8 Tablet, 8 HD Display, Wi-Fi,...</td>\n      <td>B01AHB9CN2</td>\n      <td>Amazon</td>\n      <td>Electronics,iPad &amp; Tablets,All Tablets,Fire Ta...</td>\n      <td>841667104676,amazon/53004484,amazon/b01ahb9cn2...</td>\n      <td>Amazon</td>\n      <td>2017-01-13T00:00:00.000Z</td>\n      <td>2017-07-03T23:33:15Z</td>\n      <td>2017-06-07T09:04:00.000Z,2017-04-30T00:45:00.000Z</td>\n      <td>NaN</td>\n      <td>True</td>\n      <td>NaN</td>\n      <td>0.0</td>\n      <td>5.0</td>\n      <td>http://reviews.bestbuy.com/3545/5620406/review...</td>\n      <td>great for beginner or experienced person. Boug...</td>\n      <td>very fast</td>\n      <td>NaN</td>\n      <td>NaN</td>\n      <td>truman</td>\n    </tr>\n    <tr>\n      <th>2</th>\n      <td>AVqkIhwDv8e3D1O-lebb</td>\n      <td>All-New Fire HD 8 Tablet, 8 HD Display, Wi-Fi,...</td>\n      <td>B01AHB9CN2</td>\n      <td>Amazon</td>\n      <td>Electronics,iPad &amp; Tablets,All Tablets,Fire Ta...</td>\n      <td>841667104676,amazon/53004484,amazon/b01ahb9cn2...</td>\n      <td>Amazon</td>\n      <td>2017-01-13T00:00:00.000Z</td>\n      <td>2017-07-03T23:33:15Z</td>\n      <td>2017-06-07T09:04:00.000Z,2017-04-30T00:45:00.000Z</td>\n      <td>NaN</td>\n      <td>True</td>\n      <td>NaN</td>\n      <td>0.0</td>\n      <td>5.0</td>\n      <td>http://reviews.bestbuy.com/3545/5620406/review...</td>\n      <td>Inexpensive tablet for him to use and learn on...</td>\n      <td>Beginner tablet for our 9 year old son.</td>\n      <td>NaN</td>\n      <td>NaN</td>\n      <td>DaveZ</td>\n    </tr>\n    <tr>\n      <th>3</th>\n      <td>AVqkIhwDv8e3D1O-lebb</td>\n      <td>All-New Fire HD 8 Tablet, 8 HD Display, Wi-Fi,...</td>\n      <td>B01AHB9CN2</td>\n      <td>Amazon</td>\n      <td>Electronics,iPad &amp; Tablets,All Tablets,Fire Ta...</td>\n      <td>841667104676,amazon/53004484,amazon/b01ahb9cn2...</td>\n      <td>Amazon</td>\n      <td>2017-01-13T00:00:00.000Z</td>\n      <td>2017-07-03T23:33:15Z</td>\n      <td>2017-06-07T09:04:00.000Z,2017-04-30T00:45:00.000Z</td>\n      <td>NaN</td>\n      <td>True</td>\n      <td>NaN</td>\n      <td>0.0</td>\n      <td>4.0</td>\n      <td>http://reviews.bestbuy.com/3545/5620406/review...</td>\n      <td>I've had my Fire HD 8 two weeks now and I love...</td>\n      <td>Good!!!</td>\n      <td>NaN</td>\n      <td>NaN</td>\n      <td>Shacks</td>\n    </tr>\n    <tr>\n      <th>4</th>\n      <td>AVqkIhwDv8e3D1O-lebb</td>\n      <td>All-New Fire HD 8 Tablet, 8 HD Display, Wi-Fi,...</td>\n      <td>B01AHB9CN2</td>\n      <td>Amazon</td>\n      <td>Electronics,iPad &amp; Tablets,All Tablets,Fire Ta...</td>\n      <td>841667104676,amazon/53004484,amazon/b01ahb9cn2...</td>\n      <td>Amazon</td>\n      <td>2017-01-12T00:00:00.000Z</td>\n      <td>2017-07-03T23:33:15Z</td>\n      <td>2017-06-07T09:04:00.000Z,2017-04-30T00:45:00.000Z</td>\n      <td>NaN</td>\n      <td>True</td>\n      <td>NaN</td>\n      <td>0.0</td>\n      <td>5.0</td>\n      <td>http://reviews.bestbuy.com/3545/5620406/review...</td>\n      <td>I bought this for my grand daughter when she c...</td>\n      <td>Fantastic Tablet for kids</td>\n      <td>NaN</td>\n      <td>NaN</td>\n      <td>explore42</td>\n    </tr>\n  </tbody>\n</table>\n</div>"
          },
          "metadata": {}
        },
        {
          "execution_count": 9,
          "output_type": "execute_result",
          "data": {
            "text/plain": "                     id             dateAdded           dateUpdated  \\\n0  AVpgNzjwLJeJML43Kpxn  2015-10-30T08:59:32Z  2019-04-25T09:08:16Z   \n1  AVpgNzjwLJeJML43Kpxn  2015-10-30T08:59:32Z  2019-04-25T09:08:16Z   \n2  AVpgNzjwLJeJML43Kpxn  2015-10-30T08:59:32Z  2019-04-25T09:08:16Z   \n3  AVpgNzjwLJeJML43Kpxn  2015-10-30T08:59:32Z  2019-04-25T09:08:16Z   \n4  AVpgNzjwLJeJML43Kpxn  2015-10-30T08:59:32Z  2019-04-25T09:08:16Z   \n\n                                                name                  asins  \\\n0  AmazonBasics AAA Performance Alkaline Batterie...  B00QWO9P0O,B00LH3DMUO   \n1  AmazonBasics AAA Performance Alkaline Batterie...  B00QWO9P0O,B00LH3DMUO   \n2  AmazonBasics AAA Performance Alkaline Batterie...  B00QWO9P0O,B00LH3DMUO   \n3  AmazonBasics AAA Performance Alkaline Batterie...  B00QWO9P0O,B00LH3DMUO   \n4  AmazonBasics AAA Performance Alkaline Batterie...  B00QWO9P0O,B00LH3DMUO   \n\n          brand                                         categories  \\\n0  Amazonbasics  AA,AAA,Health,Electronics,Health & Household,C...   \n1  Amazonbasics  AA,AAA,Health,Electronics,Health & Household,C...   \n2  Amazonbasics  AA,AAA,Health,Electronics,Health & Household,C...   \n3  Amazonbasics  AA,AAA,Health,Electronics,Health & Household,C...   \n4  Amazonbasics  AA,AAA,Health,Electronics,Health & Household,C...   \n\n  primaryCategories                                          imageURLs  \\\n0   Health & Beauty  https://images-na.ssl-images-amazon.com/images...   \n1   Health & Beauty  https://images-na.ssl-images-amazon.com/images...   \n2   Health & Beauty  https://images-na.ssl-images-amazon.com/images...   \n3   Health & Beauty  https://images-na.ssl-images-amazon.com/images...   \n4   Health & Beauty  https://images-na.ssl-images-amazon.com/images...   \n\n                                                keys  manufacturer  \\\n0  amazonbasics/hl002619,amazonbasicsaaaperforman...  AmazonBasics   \n1  amazonbasics/hl002619,amazonbasicsaaaperforman...  AmazonBasics   \n2  amazonbasics/hl002619,amazonbasicsaaaperforman...  AmazonBasics   \n3  amazonbasics/hl002619,amazonbasicsaaaperforman...  AmazonBasics   \n4  amazonbasics/hl002619,amazonbasicsaaaperforman...  AmazonBasics   \n\n  manufacturerNumber              reviews.date      reviews.dateSeen  \\\n0          HL-002619  2017-03-02T00:00:00.000Z  2017-08-28T00:00:00Z   \n1          HL-002619  2016-08-31T00:00:00.000Z  2017-08-28T00:00:00Z   \n2          HL-002619  2016-12-06T00:00:00.000Z  2017-08-28T00:00:00Z   \n3          HL-002619  2016-03-28T00:00:00.000Z  2017-08-28T00:00:00Z   \n4          HL-002619  2017-04-22T00:00:00.000Z  2017-08-28T00:00:00Z   \n\n  reviews.didPurchase reviews.doRecommend  reviews.id  reviews.numHelpful  \\\n0                 NaN                 NaN         NaN                 NaN   \n1                 NaN                 NaN         NaN                 NaN   \n2                 NaN                 NaN         NaN                 NaN   \n3                 NaN                 NaN         NaN                 NaN   \n4                 NaN                 NaN         NaN                 NaN   \n\n   reviews.rating                                 reviews.sourceURLs  \\\n0               3  https://www.amazon.com/product-reviews/B00QWO9...   \n1               4  https://www.amazon.com/product-reviews/B00QWO9...   \n2               5  https://www.amazon.com/product-reviews/B00QWO9...   \n3               5  https://www.amazon.com/product-reviews/B00QWO9...   \n4               5  https://www.amazon.com/product-reviews/B00QWO9...   \n\n                                        reviews.text  \\\n0  I order 3 of them and one of the item is bad q...   \n1  Bulk is always the less expensive way to go fo...   \n2  Well they are not Duracell but for the price i...   \n3  Seem to work as well as name brand batteries a...   \n4  These batteries are very long lasting the pric...   \n\n                                       reviews.title  reviews.username  \\\n0  ... 3 of them and one of the item is bad quali...        Byger yang   \n1  ... always the less expensive way to go for pr...              ByMG   \n2  ... are not Duracell but for the price i am ha...  BySharon Lambert   \n3  ... as well as name brand batteries at a much ...     Bymark sexson   \n4  ... batteries are very long lasting the price ...           Bylinda   \n\n                                          sourceURLs  \n0  https://www.barcodable.com/upc/841710106442,ht...  \n1  https://www.barcodable.com/upc/841710106442,ht...  \n2  https://www.barcodable.com/upc/841710106442,ht...  \n3  https://www.barcodable.com/upc/841710106442,ht...  \n4  https://www.barcodable.com/upc/841710106442,ht...  ",
            "text/html": "<div>\n<style scoped>\n    .dataframe tbody tr th:only-of-type {\n        vertical-align: middle;\n    }\n\n    .dataframe tbody tr th {\n        vertical-align: top;\n    }\n\n    .dataframe thead th {\n        text-align: right;\n    }\n</style>\n<table border=\"1\" class=\"dataframe\">\n  <thead>\n    <tr style=\"text-align: right;\">\n      <th></th>\n      <th>id</th>\n      <th>dateAdded</th>\n      <th>dateUpdated</th>\n      <th>name</th>\n      <th>asins</th>\n      <th>brand</th>\n      <th>categories</th>\n      <th>primaryCategories</th>\n      <th>imageURLs</th>\n      <th>keys</th>\n      <th>manufacturer</th>\n      <th>manufacturerNumber</th>\n      <th>reviews.date</th>\n      <th>reviews.dateSeen</th>\n      <th>reviews.didPurchase</th>\n      <th>reviews.doRecommend</th>\n      <th>reviews.id</th>\n      <th>reviews.numHelpful</th>\n      <th>reviews.rating</th>\n      <th>reviews.sourceURLs</th>\n      <th>reviews.text</th>\n      <th>reviews.title</th>\n      <th>reviews.username</th>\n      <th>sourceURLs</th>\n    </tr>\n  </thead>\n  <tbody>\n    <tr>\n      <th>0</th>\n      <td>AVpgNzjwLJeJML43Kpxn</td>\n      <td>2015-10-30T08:59:32Z</td>\n      <td>2019-04-25T09:08:16Z</td>\n      <td>AmazonBasics AAA Performance Alkaline Batterie...</td>\n      <td>B00QWO9P0O,B00LH3DMUO</td>\n      <td>Amazonbasics</td>\n      <td>AA,AAA,Health,Electronics,Health &amp; Household,C...</td>\n      <td>Health &amp; Beauty</td>\n      <td>https://images-na.ssl-images-amazon.com/images...</td>\n      <td>amazonbasics/hl002619,amazonbasicsaaaperforman...</td>\n      <td>AmazonBasics</td>\n      <td>HL-002619</td>\n      <td>2017-03-02T00:00:00.000Z</td>\n      <td>2017-08-28T00:00:00Z</td>\n      <td>NaN</td>\n      <td>NaN</td>\n      <td>NaN</td>\n      <td>NaN</td>\n      <td>3</td>\n      <td>https://www.amazon.com/product-reviews/B00QWO9...</td>\n      <td>I order 3 of them and one of the item is bad q...</td>\n      <td>... 3 of them and one of the item is bad quali...</td>\n      <td>Byger yang</td>\n      <td>https://www.barcodable.com/upc/841710106442,ht...</td>\n    </tr>\n    <tr>\n      <th>1</th>\n      <td>AVpgNzjwLJeJML43Kpxn</td>\n      <td>2015-10-30T08:59:32Z</td>\n      <td>2019-04-25T09:08:16Z</td>\n      <td>AmazonBasics AAA Performance Alkaline Batterie...</td>\n      <td>B00QWO9P0O,B00LH3DMUO</td>\n      <td>Amazonbasics</td>\n      <td>AA,AAA,Health,Electronics,Health &amp; Household,C...</td>\n      <td>Health &amp; Beauty</td>\n      <td>https://images-na.ssl-images-amazon.com/images...</td>\n      <td>amazonbasics/hl002619,amazonbasicsaaaperforman...</td>\n      <td>AmazonBasics</td>\n      <td>HL-002619</td>\n      <td>2016-08-31T00:00:00.000Z</td>\n      <td>2017-08-28T00:00:00Z</td>\n      <td>NaN</td>\n      <td>NaN</td>\n      <td>NaN</td>\n      <td>NaN</td>\n      <td>4</td>\n      <td>https://www.amazon.com/product-reviews/B00QWO9...</td>\n      <td>Bulk is always the less expensive way to go fo...</td>\n      <td>... always the less expensive way to go for pr...</td>\n      <td>ByMG</td>\n      <td>https://www.barcodable.com/upc/841710106442,ht...</td>\n    </tr>\n    <tr>\n      <th>2</th>\n      <td>AVpgNzjwLJeJML43Kpxn</td>\n      <td>2015-10-30T08:59:32Z</td>\n      <td>2019-04-25T09:08:16Z</td>\n      <td>AmazonBasics AAA Performance Alkaline Batterie...</td>\n      <td>B00QWO9P0O,B00LH3DMUO</td>\n      <td>Amazonbasics</td>\n      <td>AA,AAA,Health,Electronics,Health &amp; Household,C...</td>\n      <td>Health &amp; Beauty</td>\n      <td>https://images-na.ssl-images-amazon.com/images...</td>\n      <td>amazonbasics/hl002619,amazonbasicsaaaperforman...</td>\n      <td>AmazonBasics</td>\n      <td>HL-002619</td>\n      <td>2016-12-06T00:00:00.000Z</td>\n      <td>2017-08-28T00:00:00Z</td>\n      <td>NaN</td>\n      <td>NaN</td>\n      <td>NaN</td>\n      <td>NaN</td>\n      <td>5</td>\n      <td>https://www.amazon.com/product-reviews/B00QWO9...</td>\n      <td>Well they are not Duracell but for the price i...</td>\n      <td>... are not Duracell but for the price i am ha...</td>\n      <td>BySharon Lambert</td>\n      <td>https://www.barcodable.com/upc/841710106442,ht...</td>\n    </tr>\n    <tr>\n      <th>3</th>\n      <td>AVpgNzjwLJeJML43Kpxn</td>\n      <td>2015-10-30T08:59:32Z</td>\n      <td>2019-04-25T09:08:16Z</td>\n      <td>AmazonBasics AAA Performance Alkaline Batterie...</td>\n      <td>B00QWO9P0O,B00LH3DMUO</td>\n      <td>Amazonbasics</td>\n      <td>AA,AAA,Health,Electronics,Health &amp; Household,C...</td>\n      <td>Health &amp; Beauty</td>\n      <td>https://images-na.ssl-images-amazon.com/images...</td>\n      <td>amazonbasics/hl002619,amazonbasicsaaaperforman...</td>\n      <td>AmazonBasics</td>\n      <td>HL-002619</td>\n      <td>2016-03-28T00:00:00.000Z</td>\n      <td>2017-08-28T00:00:00Z</td>\n      <td>NaN</td>\n      <td>NaN</td>\n      <td>NaN</td>\n      <td>NaN</td>\n      <td>5</td>\n      <td>https://www.amazon.com/product-reviews/B00QWO9...</td>\n      <td>Seem to work as well as name brand batteries a...</td>\n      <td>... as well as name brand batteries at a much ...</td>\n      <td>Bymark sexson</td>\n      <td>https://www.barcodable.com/upc/841710106442,ht...</td>\n    </tr>\n    <tr>\n      <th>4</th>\n      <td>AVpgNzjwLJeJML43Kpxn</td>\n      <td>2015-10-30T08:59:32Z</td>\n      <td>2019-04-25T09:08:16Z</td>\n      <td>AmazonBasics AAA Performance Alkaline Batterie...</td>\n      <td>B00QWO9P0O,B00LH3DMUO</td>\n      <td>Amazonbasics</td>\n      <td>AA,AAA,Health,Electronics,Health &amp; Household,C...</td>\n      <td>Health &amp; Beauty</td>\n      <td>https://images-na.ssl-images-amazon.com/images...</td>\n      <td>amazonbasics/hl002619,amazonbasicsaaaperforman...</td>\n      <td>AmazonBasics</td>\n      <td>HL-002619</td>\n      <td>2017-04-22T00:00:00.000Z</td>\n      <td>2017-08-28T00:00:00Z</td>\n      <td>NaN</td>\n      <td>NaN</td>\n      <td>NaN</td>\n      <td>NaN</td>\n      <td>5</td>\n      <td>https://www.amazon.com/product-reviews/B00QWO9...</td>\n      <td>These batteries are very long lasting the pric...</td>\n      <td>... batteries are very long lasting the price ...</td>\n      <td>Bylinda</td>\n      <td>https://www.barcodable.com/upc/841710106442,ht...</td>\n    </tr>\n  </tbody>\n</table>\n</div>"
          },
          "metadata": {}
        }
      ]
    },
    {
      "cell_type": "code",
      "source": [
        "df1.shape\n",
        "df2.shape\n",
        "df3.shape"
      ],
      "metadata": {
        "trusted": true,
        "id": "TjHzISiSc5y9",
        "outputId": "18cb2fcc-87f2-42d9-e4a1-0349c06e6987"
      },
      "execution_count": null,
      "outputs": [
        {
          "execution_count": 10,
          "output_type": "execute_result",
          "data": {
            "text/plain": "(5000, 24)"
          },
          "metadata": {}
        },
        {
          "execution_count": 10,
          "output_type": "execute_result",
          "data": {
            "text/plain": "(34660, 21)"
          },
          "metadata": {}
        },
        {
          "execution_count": 10,
          "output_type": "execute_result",
          "data": {
            "text/plain": "(28332, 24)"
          },
          "metadata": {}
        }
      ]
    },
    {
      "cell_type": "markdown",
      "source": [
        "df2 renamed as df for simplification\n"
      ],
      "metadata": {
        "id": "xeOCj-Yac5y-"
      }
    },
    {
      "cell_type": "code",
      "source": [
        "df = df2\n",
        "df.isnull().sum()"
      ],
      "metadata": {
        "trusted": true,
        "id": "u9EaigXWc5y-",
        "outputId": "ab270d3c-6968-4fa1-f431-fd8a1f240df3"
      },
      "execution_count": null,
      "outputs": [
        {
          "execution_count": 11,
          "output_type": "execute_result",
          "data": {
            "text/plain": "id                          0\nname                     6760\nasins                       2\nbrand                       0\ncategories                  0\nkeys                        0\nmanufacturer                0\nreviews.date               39\nreviews.dateAdded       10621\nreviews.dateSeen            0\nreviews.didPurchase     34659\nreviews.doRecommend       594\nreviews.id              34659\nreviews.numHelpful        529\nreviews.rating             33\nreviews.sourceURLs          0\nreviews.text                1\nreviews.title               5\nreviews.userCity        34660\nreviews.userProvince    34660\nreviews.username            2\ndtype: int64"
          },
          "metadata": {}
        }
      ]
    },
    {
      "cell_type": "markdown",
      "source": [
        "The task will be using the column `reviews.text` to predict `reviews.rating`"
      ],
      "metadata": {
        "id": "B8N5hlm8c5y-"
      }
    },
    {
      "cell_type": "markdown",
      "source": [
        "We will use the not null values only"
      ],
      "metadata": {
        "id": "HcF1iLxwc5y-"
      }
    },
    {
      "cell_type": "code",
      "source": [
        "df = df[df['reviews.rating'].notnull() & df['reviews.text'].notnull()]\n",
        "df.isnull().sum()"
      ],
      "metadata": {
        "trusted": true,
        "id": "ygLiyIiDc5y-",
        "outputId": "e4abca08-978c-443e-e403-4f15348cc731"
      },
      "execution_count": null,
      "outputs": [
        {
          "execution_count": 12,
          "output_type": "execute_result",
          "data": {
            "text/plain": "id                          0\nname                     6759\nasins                       2\nbrand                       0\ncategories                  0\nkeys                        0\nmanufacturer                0\nreviews.date               29\nreviews.dateAdded       10587\nreviews.dateSeen            0\nreviews.didPurchase     34625\nreviews.doRecommend       560\nreviews.id              34625\nreviews.numHelpful        495\nreviews.rating              0\nreviews.sourceURLs          0\nreviews.text                0\nreviews.title               5\nreviews.userCity        34626\nreviews.userProvince    34626\nreviews.username            2\ndtype: int64"
          },
          "metadata": {}
        }
      ]
    },
    {
      "cell_type": "markdown",
      "source": [
        "Now, the two columns are clean. Lets take a subset of the addressed columns\n"
      ],
      "metadata": {
        "id": "EvzYegguc5y_"
      }
    },
    {
      "cell_type": "code",
      "source": [
        "df = df[['reviews.text', 'reviews.rating']]\n",
        "df.columns = ['review_text', 'review_rating']\n",
        "df.shape"
      ],
      "metadata": {
        "trusted": true,
        "id": "Vle3CYcBc5y_",
        "outputId": "0b27448c-5e91-4e47-f28a-f46b624b8393"
      },
      "execution_count": null,
      "outputs": [
        {
          "execution_count": 13,
          "output_type": "execute_result",
          "data": {
            "text/plain": "(34626, 2)"
          },
          "metadata": {}
        }
      ]
    },
    {
      "cell_type": "code",
      "source": [
        "import matplotlib.pyplot as plt\n",
        "import seaborn as sns\n",
        "\n",
        "sns.countplot(df['review_rating'])\n",
        "plt.xlabel('Rating Count')"
      ],
      "metadata": {
        "trusted": true,
        "id": "MNc3jPc5c5y_",
        "outputId": "0dfb630d-53ec-4f3d-dd8f-52b56ec83d09"
      },
      "execution_count": null,
      "outputs": [
        {
          "execution_count": 14,
          "output_type": "execute_result",
          "data": {
            "text/plain": "<AxesSubplot:xlabel='review_rating', ylabel='count'>"
          },
          "metadata": {}
        },
        {
          "execution_count": 14,
          "output_type": "execute_result",
          "data": {
            "text/plain": "Text(0.5, 0, 'Rating Count')"
          },
          "metadata": {}
        },
        {
          "output_type": "display_data",
          "data": {
            "text/plain": "<Figure size 864x576 with 1 Axes>",
            "image/png": "[encoded data removed]"
          },
          "metadata": {
            "image/png": {
              "width": 753,
              "height": 489
            }
          }
        }
      ]
    },
    {
      "cell_type": "markdown",
      "source": [
        "Now,combining the `1`, `2`, and `3` ratings in a class and keep the `4` and `5` classes as is. Calling new classes `negative`, `neutral`, and `positive`."
      ],
      "metadata": {
        "id": "bMHW3__Ac5y_"
      }
    },
    {
      "cell_type": "code",
      "source": [
        "def to_sentiment(rating):\n",
        "    \"\"\" Convert rating into sentiment\"\"\"\n",
        "    if rating == 5:\n",
        "        sentiment = 'positive'\n",
        "    elif rating == 4:\n",
        "        sentiment = 'neutral'\n",
        "    else:\n",
        "        sentiment = 'negative'\n",
        "    return sentiment"
      ],
      "metadata": {
        "trusted": true,
        "id": "g0zcjkOcc5y_"
      },
      "execution_count": null,
      "outputs": []
    },
    {
      "cell_type": "code",
      "source": [
        "df['sentiment'] = df['review_rating'].apply(to_sentiment)"
      ],
      "metadata": {
        "trusted": true,
        "id": "Cr4YGJ2Oc5zA"
      },
      "execution_count": null,
      "outputs": []
    },
    {
      "cell_type": "markdown",
      "source": [
        "Now, lets view the dataset in its new format."
      ],
      "metadata": {
        "id": "JiHBs8cTc5zA"
      }
    },
    {
      "cell_type": "code",
      "source": [
        "df.head()"
      ],
      "metadata": {
        "trusted": true,
        "id": "rwn9rrHvc5zA",
        "outputId": "08c8315f-16dd-4742-f88b-d44b5e74e751"
      },
      "execution_count": null,
      "outputs": [
        {
          "execution_count": 17,
          "output_type": "execute_result",
          "data": {
            "text/plain": "                                         review_text  review_rating sentiment\n0  This product so far has not disappointed. My c...            5.0  positive\n1  great for beginner or experienced person. Boug...            5.0  positive\n2  Inexpensive tablet for him to use and learn on...            5.0  positive\n3  I've had my Fire HD 8 two weeks now and I love...            4.0   neutral\n4  I bought this for my grand daughter when she c...            5.0  positive",
            "text/html": "<div>\n<style scoped>\n    .dataframe tbody tr th:only-of-type {\n        vertical-align: middle;\n    }\n\n    .dataframe tbody tr th {\n        vertical-align: top;\n    }\n\n    .dataframe thead th {\n        text-align: right;\n    }\n</style>\n<table border=\"1\" class=\"dataframe\">\n  <thead>\n    <tr style=\"text-align: right;\">\n      <th></th>\n      <th>review_text</th>\n      <th>review_rating</th>\n      <th>sentiment</th>\n    </tr>\n  </thead>\n  <tbody>\n    <tr>\n      <th>0</th>\n      <td>This product so far has not disappointed. My c...</td>\n      <td>5.0</td>\n      <td>positive</td>\n    </tr>\n    <tr>\n      <th>1</th>\n      <td>great for beginner or experienced person. Boug...</td>\n      <td>5.0</td>\n      <td>positive</td>\n    </tr>\n    <tr>\n      <th>2</th>\n      <td>Inexpensive tablet for him to use and learn on...</td>\n      <td>5.0</td>\n      <td>positive</td>\n    </tr>\n    <tr>\n      <th>3</th>\n      <td>I've had my Fire HD 8 two weeks now and I love...</td>\n      <td>4.0</td>\n      <td>neutral</td>\n    </tr>\n    <tr>\n      <th>4</th>\n      <td>I bought this for my grand daughter when she c...</td>\n      <td>5.0</td>\n      <td>positive</td>\n    </tr>\n  </tbody>\n</table>\n</div>"
          },
          "metadata": {}
        }
      ]
    },
    {
      "cell_type": "markdown",
      "source": [
        "Lets see the class distribution"
      ],
      "metadata": {
        "id": "cr6DCHAoc5zA"
      }
    },
    {
      "cell_type": "code",
      "source": [
        "(df.sentiment.value_counts() *100 / len(df), 2)\n",
        "sns.countplot(df.sentiment)\n",
        "plt.xlabel('Class Count')"
      ],
      "metadata": {
        "trusted": true,
        "id": "mu2UUVyuc5zA",
        "outputId": "e2fde28a-3129-41fb-a1a4-7afb3d855db1"
      },
      "execution_count": null,
      "outputs": [
        {
          "execution_count": 18,
          "output_type": "execute_result",
          "data": {
            "text/plain": "(positive    68.659389\n neutral     24.666436\n negative     6.674175\n Name: sentiment, dtype: float64,\n 2)"
          },
          "metadata": {}
        },
        {
          "execution_count": 18,
          "output_type": "execute_result",
          "data": {
            "text/plain": "<AxesSubplot:xlabel='sentiment', ylabel='count'>"
          },
          "metadata": {}
        },
        {
          "execution_count": 18,
          "output_type": "execute_result",
          "data": {
            "text/plain": "Text(0.5, 0, 'Class Count')"
          },
          "metadata": {}
        },
        {
          "output_type": "display_data",
          "data": {
            "text/plain": "<Figure size 864x576 with 1 Axes>",
            "image/png": "[encoded data removed]"
          },
          "metadata": {
            "image/png": {
              "width": 753,
              "height": 489
            }
          }
        }
      ]
    },
    {
      "cell_type": "markdown",
      "source": [
        "As we see, we have a huge imbalance and this will affect the model for sure but we will try to see how `BERT` will deal with this imblance. "
      ],
      "metadata": {
        "id": "baDDCrkYc5zA"
      }
    },
    {
      "cell_type": "markdown",
      "source": [
        "## Data Preprocessing\n",
        "\n",
        "\n"
      ],
      "metadata": {
        "id": "cfamJJT4c5zA"
      }
    },
    {
      "cell_type": "code",
      "source": [
        "PRE_TRAINED_MODEL_NAME = 'bert-base-cased'"
      ],
      "metadata": {
        "trusted": true,
        "id": "9XeJmi1nc5zB"
      },
      "execution_count": null,
      "outputs": []
    },
    {
      "cell_type": "markdown",
      "source": [
        "Let's load a pre-trained [BertTokenizer](https://huggingface.co/transformers/model_doc/bert.html#berttokenizer):"
      ],
      "metadata": {
        "id": "tP-EDaZmc5zB"
      }
    },
    {
      "cell_type": "code",
      "source": [
        "tokenizer = BertTokenizer.from_pretrained(PRE_TRAINED_MODEL_NAME)"
      ],
      "metadata": {
        "trusted": true,
        "colab": {
          "referenced_widgets": [
            "edd11985f1794d5ab4172b418188e9fc"
          ]
        },
        "id": "nc16vgvlc5zB",
        "outputId": "dcf659c5-8c32-43ba-a5b5-72d57e4310b8"
      },
      "execution_count": null,
      "outputs": [
        {
          "output_type": "display_data",
          "data": {
            "text/plain": "Downloading:   0%|          | 0.00/213k [00:00<?, ?B/s]",
            "application/vnd.jupyter.widget-view+json": {
              "version_major": 2,
              "version_minor": 0,
              "model_id": "edd11985f1794d5ab4172b418188e9fc"
            }
          },
          "metadata": {}
        }
      ]
    },
    {
      "cell_type": "markdown",
      "source": [
        "understanding the tokenization process:\n",
        "\n",
        "\n"
      ],
      "metadata": {
        "id": "RL83FBpAc5zB"
      }
    },
    {
      "cell_type": "code",
      "source": [
        "sample_txt = 'Machine Learning is so much fun!! I love Machine Learning apps and practice it twice a week.'"
      ],
      "metadata": {
        "trusted": true,
        "id": "Zvimne7ac5zB"
      },
      "execution_count": null,
      "outputs": []
    },
    {
      "cell_type": "markdown",
      "source": [
        "Some basic operations can convert the text to tokens and tokens to unique integers (ids):"
      ],
      "metadata": {
        "id": "rZN3gXFNc5zB"
      }
    },
    {
      "cell_type": "code",
      "source": [
        "tokens = tokenizer.tokenize(sample_txt)\n",
        "token_ids = tokenizer.convert_tokens_to_ids(tokens)\n",
        "\n",
        "print(f' Sentence: {sample_txt}')\n",
        "print(f'   Tokens: {tokens}')\n",
        "print(f'Token IDs: {token_ids}')"
      ],
      "metadata": {
        "trusted": true,
        "id": "vr1l0qdIc5zC",
        "outputId": "27ee1b97-4ea2-4cb1-f668-8ddc690a76af"
      },
      "execution_count": null,
      "outputs": [
        {
          "name": "stdout",
          "text": " Sentence: Machine Learning is so much fun!! I love Machine Learning apps and practice it twice a week.\n   Tokens: ['Machine', 'Learning', 'is', 'so', 'much', 'fun', '!', '!', 'I', 'love', 'Machine', 'Learning', 'apps', 'and', 'practice', 'it', 'twice', 'a', 'week', '.']\nToken IDs: [7792, 9681, 1110, 1177, 1277, 4106, 106, 106, 146, 1567, 7792, 9681, 23875, 1105, 2415, 1122, 3059, 170, 1989, 119]\n",
          "output_type": "stream"
        }
      ]
    },
    {
      "cell_type": "markdown",
      "source": [
        "### Special Tokens\n",
        "\n",
        "`[SEP]` - marker for ending of a sentence\n"
      ],
      "metadata": {
        "id": "LzUKbuzyc5zC"
      }
    },
    {
      "cell_type": "code",
      "source": [
        "tokenizer.sep_token, tokenizer.sep_token_id"
      ],
      "metadata": {
        "trusted": true,
        "id": "wFbNztMNc5zC",
        "outputId": "c67fe2b0-de3b-422d-b5ed-6193644532e8"
      },
      "execution_count": null,
      "outputs": [
        {
          "execution_count": 23,
          "output_type": "execute_result",
          "data": {
            "text/plain": "('[SEP]', 102)"
          },
          "metadata": {}
        }
      ]
    },
    {
      "cell_type": "markdown",
      "source": [
        "`[CLS]` - we must add this token to the start of each sentence, so BERT knows \n"
      ],
      "metadata": {
        "id": "Dz6OKWArc5zC"
      }
    },
    {
      "cell_type": "code",
      "source": [
        "tokenizer.cls_token, tokenizer.cls_token_id"
      ],
      "metadata": {
        "trusted": true,
        "id": "6VYcRaVlc5zC",
        "outputId": "31c17759-5209-4158-b488-2b47dad8c9db"
      },
      "execution_count": null,
      "outputs": [
        {
          "execution_count": 24,
          "output_type": "execute_result",
          "data": {
            "text/plain": "('[CLS]', 101)"
          },
          "metadata": {}
        }
      ]
    },
    {
      "cell_type": "markdown",
      "source": [
        "There is also a special token for padding:"
      ],
      "metadata": {
        "id": "1Py-vXo0c5zC"
      }
    },
    {
      "cell_type": "code",
      "source": [
        "tokenizer.pad_token, tokenizer.pad_token_id"
      ],
      "metadata": {
        "trusted": true,
        "id": "s3oR8oOnc5zC",
        "outputId": "ca6c3b1e-306f-4f7d-80ba-da57760586e5"
      },
      "execution_count": null,
      "outputs": [
        {
          "execution_count": 25,
          "output_type": "execute_result",
          "data": {
            "text/plain": "('[PAD]', 0)"
          },
          "metadata": {}
        }
      ]
    },
    {
      "cell_type": "markdown",
      "source": [
        "BERT understands tokens that were in the training set. Everything else can be encoded using the `[UNK]` (unknown) token:"
      ],
      "metadata": {
        "id": "U6xAwLrUc5zC"
      }
    },
    {
      "cell_type": "code",
      "source": [
        "tokenizer.unk_token, tokenizer.unk_token_id"
      ],
      "metadata": {
        "trusted": true,
        "id": "C3TGRq9Cc5zD",
        "outputId": "1509943c-f408-4eba-f35e-80bc567cceaf"
      },
      "execution_count": null,
      "outputs": [
        {
          "execution_count": 26,
          "output_type": "execute_result",
          "data": {
            "text/plain": "('[UNK]', 100)"
          },
          "metadata": {}
        }
      ]
    },
    {
      "cell_type": "markdown",
      "source": [
        "using the [`encode_plus()`](https://huggingface.co/transformers/main_classes/tokenizer.html#transformers.PreTrainedTokenizer.encode_plus) method:"
      ],
      "metadata": {
        "id": "_kv57uWfc5zD"
      }
    },
    {
      "cell_type": "code",
      "source": [
        "encoding = tokenizer.encode_plus(\n",
        "  sample_txt,\n",
        "  max_length=32,\n",
        "  truncation=True,\n",
        "  add_special_tokens=True, # Add '[CLS]' and '[SEP]'\n",
        "  return_token_type_ids=False,\n",
        "  pad_to_max_length=True,\n",
        "  return_attention_mask=True,\n",
        "  return_tensors='pt',  # Return PyTorch tensors\n",
        ")\n",
        "\n",
        "encoding.keys()"
      ],
      "metadata": {
        "trusted": true,
        "id": "WRr0_fxgc5zD",
        "outputId": "722f1ae2-6ecc-4836-ec15-57e60a695c6f"
      },
      "execution_count": null,
      "outputs": [
        {
          "execution_count": 27,
          "output_type": "execute_result",
          "data": {
            "text/plain": "dict_keys(['input_ids', 'attention_mask'])"
          },
          "metadata": {}
        }
      ]
    },
    {
      "cell_type": "markdown",
      "source": [
        "The token ids are now stored in a Tensor and padded to a length of 32:"
      ],
      "metadata": {
        "id": "fSNism23c5zD"
      }
    },
    {
      "cell_type": "code",
      "source": [
        "print(len(encoding['input_ids'][0]))\n",
        "encoding['input_ids'][0]"
      ],
      "metadata": {
        "trusted": true,
        "id": "o7UmB6T7c5zD",
        "outputId": "05d92b01-2328-4d8f-abe8-605bad7f8623"
      },
      "execution_count": null,
      "outputs": [
        {
          "name": "stdout",
          "text": "32\n",
          "output_type": "stream"
        },
        {
          "execution_count": 28,
          "output_type": "execute_result",
          "data": {
            "text/plain": "tensor([  101,  7792,  9681,  1110,  1177,  1277,  4106,   106,   106,   146,\n         1567,  7792,  9681, 23875,  1105,  2415,  1122,  3059,   170,  1989,\n          119,   102,     0,     0,     0,     0,     0,     0,     0,     0,\n            0,     0])"
          },
          "metadata": {}
        }
      ]
    },
    {
      "cell_type": "markdown",
      "source": [
        "The attention mask has the same length:"
      ],
      "metadata": {
        "id": "O3QfRL5cc5zD"
      }
    },
    {
      "cell_type": "code",
      "source": [
        "print(len(encoding['attention_mask'][0]))\n",
        "encoding['attention_mask']"
      ],
      "metadata": {
        "trusted": true,
        "id": "gcCzg4KMc5zD",
        "outputId": "55845116-2272-4045-a9d9-49958978378b"
      },
      "execution_count": null,
      "outputs": [
        {
          "name": "stdout",
          "text": "32\n",
          "output_type": "stream"
        },
        {
          "execution_count": 29,
          "output_type": "execute_result",
          "data": {
            "text/plain": "tensor([[1, 1, 1, 1, 1, 1, 1, 1, 1, 1, 1, 1, 1, 1, 1, 1, 1, 1, 1, 1, 1, 1, 0, 0,\n         0, 0, 0, 0, 0, 0, 0, 0]])"
          },
          "metadata": {}
        }
      ]
    },
    {
      "cell_type": "markdown",
      "source": [
        "inverse the tokenization to have a look at the special tokens:"
      ],
      "metadata": {
        "id": "DkF8u2x7c5zD"
      }
    },
    {
      "cell_type": "code",
      "source": [
        "tokenizer.convert_ids_to_tokens(encoding['input_ids'][0])"
      ],
      "metadata": {
        "trusted": true,
        "id": "Apd-pqDHc5zE",
        "outputId": "d5c56635-5c71-40ff-eff7-483e1e52318e"
      },
      "execution_count": null,
      "outputs": [
        {
          "execution_count": 30,
          "output_type": "execute_result",
          "data": {
            "text/plain": "['[CLS]',\n 'Machine',\n 'Learning',\n 'is',\n 'so',\n 'much',\n 'fun',\n '!',\n '!',\n 'I',\n 'love',\n 'Machine',\n 'Learning',\n 'apps',\n 'and',\n 'practice',\n 'it',\n 'twice',\n 'a',\n 'week',\n '.',\n '[SEP]',\n '[PAD]',\n '[PAD]',\n '[PAD]',\n '[PAD]',\n '[PAD]',\n '[PAD]',\n '[PAD]',\n '[PAD]',\n '[PAD]',\n '[PAD]']"
          },
          "metadata": {}
        }
      ]
    },
    {
      "cell_type": "markdown",
      "source": [
        "### Choosing Sequence Length\n",
        "\n"
      ],
      "metadata": {
        "id": "BAk5a2jXc5zE"
      }
    },
    {
      "cell_type": "code",
      "source": [
        "token_lens = []\n",
        "\n",
        "for txt in df.review_text:\n",
        "    tokens = tokenizer.encode(txt,truncation=True, max_length=512)\n",
        "    token_lens.append(len(tokens))"
      ],
      "metadata": {
        "trusted": true,
        "id": "ML3jQsnhc5zE"
      },
      "execution_count": null,
      "outputs": []
    },
    {
      "cell_type": "markdown",
      "source": [
        "and plot the distribution:\n"
      ],
      "metadata": {
        "id": "_Bxn8ePQc5zE"
      }
    },
    {
      "cell_type": "code",
      "source": [
        "sns.distplot(token_lens)\n",
        "plt.xlim([0, 256]);\n",
        "plt.xlabel('Token count');"
      ],
      "metadata": {
        "trusted": true,
        "id": "oshJjR97c5zE",
        "outputId": "37fe4d50-cdeb-40b0-b22c-3f4b2abc17a4"
      },
      "execution_count": null,
      "outputs": [
        {
          "output_type": "display_data",
          "data": {
            "text/plain": "<Figure size 864x576 with 1 Axes>",
            "image/png": "[encoded data removed]"
          },
          "metadata": {
            "image/png": {
              "width": 749,
              "height": 489
            }
          }
        }
      ]
    },
    {
      "cell_type": "markdown",
      "source": [
        "Most of the reviews seem to contain less than 128 tokens, but we'll be on the safe side and choose a maximum length of 160."
      ],
      "metadata": {
        "id": "_droY5OYc5zE"
      }
    },
    {
      "cell_type": "code",
      "source": [
        "MAX_LEN = 160"
      ],
      "metadata": {
        "trusted": true,
        "id": "LQguxzKhc5zE"
      },
      "execution_count": null,
      "outputs": []
    },
    {
      "cell_type": "markdown",
      "source": [
        "We have all building blocks required to create a PyTorch dataset"
      ],
      "metadata": {
        "id": "p4cUIFojc5zE"
      }
    },
    {
      "cell_type": "code",
      "source": [
        "class ReviewsDataset(Dataset):\n",
        "    def __init__(self, reviews, targets, tokenizer, max_len):\n",
        "        self.reviews = reviews\n",
        "        self.targets = targets\n",
        "        self.tokenizer = tokenizer\n",
        "        self.max_len = max_len\n",
        "    \n",
        "    \n",
        "\n",
        "    def __init__(self, reviews, targets, tokenizer, max_len):\n",
        "        self.reviews = reviews\n",
        "        self.targets = targets\n",
        "        self.tokenizer = tokenizer\n",
        "        self.max_len = max_len\n",
        "        \n",
        "    def __len__(self):\n",
        "        return len(self.reviews)\n",
        "    \n",
        "    def __getitem__(self, item):\n",
        "        review = str(self.reviews[item])\n",
        "        target = self.targets[item]\n",
        "        encoding = self.tokenizer.encode_plus(\n",
        "          review,\n",
        "          add_special_tokens=True,\n",
        "          max_length=self.max_len,\n",
        "          truncation=True,\n",
        "          return_token_type_ids=False,\n",
        "          pad_to_max_length=True,\n",
        "          return_attention_mask=True,\n",
        "          return_tensors='pt'\n",
        "    )\n",
        "        return {\n",
        "          'review_text': review,\n",
        "          'input_ids': encoding['input_ids'].flatten(),\n",
        "          'attention_mask': encoding['attention_mask'].flatten(),\n",
        "          'targets': torch.tensor(target, dtype=torch.long)\n",
        "        }"
      ],
      "metadata": {
        "trusted": true,
        "id": "SA6l8XZFc5zF"
      },
      "execution_count": null,
      "outputs": []
    },
    {
      "cell_type": "markdown",
      "source": [
        "Now, lets convert our target to a numeric representation"
      ],
      "metadata": {
        "id": "Sdj3Hwikc5zF"
      }
    },
    {
      "cell_type": "code",
      "source": [
        "sentiment_int = {'positive' : 0, 'neutral': 1,  'negative': 2}\n",
        "df['sentiment_int'] = df.sentiment.map(sentiment_int)\n",
        "df.head()"
      ],
      "metadata": {
        "trusted": true,
        "id": "0IiAPcjjc5zF",
        "outputId": "e687af57-7463-42ac-b75c-9a429ea125fc"
      },
      "execution_count": null,
      "outputs": [
        {
          "execution_count": 35,
          "output_type": "execute_result",
          "data": {
            "text/plain": "                                         review_text  review_rating sentiment  \\\n0  This product so far has not disappointed. My c...            5.0  positive   \n1  great for beginner or experienced person. Boug...            5.0  positive   \n2  Inexpensive tablet for him to use and learn on...            5.0  positive   \n3  I've had my Fire HD 8 two weeks now and I love...            4.0   neutral   \n4  I bought this for my grand daughter when she c...            5.0  positive   \n\n   sentiment_int  \n0              0  \n1              0  \n2              0  \n3              1  \n4              0  ",
            "text/html": "<div>\n<style scoped>\n    .dataframe tbody tr th:only-of-type {\n        vertical-align: middle;\n    }\n\n    .dataframe tbody tr th {\n        vertical-align: top;\n    }\n\n    .dataframe thead th {\n        text-align: right;\n    }\n</style>\n<table border=\"1\" class=\"dataframe\">\n  <thead>\n    <tr style=\"text-align: right;\">\n      <th></th>\n      <th>review_text</th>\n      <th>review_rating</th>\n      <th>sentiment</th>\n      <th>sentiment_int</th>\n    </tr>\n  </thead>\n  <tbody>\n    <tr>\n      <th>0</th>\n      <td>This product so far has not disappointed. My c...</td>\n      <td>5.0</td>\n      <td>positive</td>\n      <td>0</td>\n    </tr>\n    <tr>\n      <th>1</th>\n      <td>great for beginner or experienced person. Boug...</td>\n      <td>5.0</td>\n      <td>positive</td>\n      <td>0</td>\n    </tr>\n    <tr>\n      <th>2</th>\n      <td>Inexpensive tablet for him to use and learn on...</td>\n      <td>5.0</td>\n      <td>positive</td>\n      <td>0</td>\n    </tr>\n    <tr>\n      <th>3</th>\n      <td>I've had my Fire HD 8 two weeks now and I love...</td>\n      <td>4.0</td>\n      <td>neutral</td>\n      <td>1</td>\n    </tr>\n    <tr>\n      <th>4</th>\n      <td>I bought this for my grand daughter when she c...</td>\n      <td>5.0</td>\n      <td>positive</td>\n      <td>0</td>\n    </tr>\n  </tbody>\n</table>\n</div>"
          },
          "metadata": {}
        }
      ]
    },
    {
      "cell_type": "markdown",
      "source": [
        "The tokenizer is doing most of the heavy lifting for us. We also return the review texts, so it'll be easier to evaluate the predictions from our model. Let's split the data:"
      ],
      "metadata": {
        "id": "MNvEWaJOc5zF"
      }
    },
    {
      "cell_type": "code",
      "source": [
        "df_train, df_test = train_test_split(df, test_size=0.1, random_state=RANDOM_SEED)\n",
        "df_val, df_test = train_test_split(df_test, test_size=0.5, random_state=RANDOM_SEED)"
      ],
      "metadata": {
        "trusted": true,
        "id": "Vr6xGl8Nc5zF"
      },
      "execution_count": null,
      "outputs": []
    },
    {
      "cell_type": "code",
      "source": [
        "df_train.shape, df_val.shape, df_test.shape"
      ],
      "metadata": {
        "trusted": true,
        "id": "i95pj7h2c5zF",
        "outputId": "be08e71b-0bc8-432f-b037-0b9d9bf177b6"
      },
      "execution_count": null,
      "outputs": [
        {
          "execution_count": 37,
          "output_type": "execute_result",
          "data": {
            "text/plain": "((31163, 4), (1731, 4), (1732, 4))"
          },
          "metadata": {}
        }
      ]
    },
    {
      "cell_type": "markdown",
      "source": [
        "creating a couple of data loaders \n"
      ],
      "metadata": {
        "id": "o0sQ2swLc5zF"
      }
    },
    {
      "cell_type": "code",
      "source": [
        "def create_data_loader(df, tokenizer, max_len, batch_size):\n",
        "    ds = ReviewsDataset(\n",
        "    reviews=df.review_text.to_numpy(),\n",
        "    targets=df.sentiment_int.to_numpy(),\n",
        "    tokenizer=tokenizer,\n",
        "    max_len=max_len\n",
        "  )\n",
        "\n",
        "    return DataLoader(\n",
        "    ds,\n",
        "    batch_size=batch_size,\n",
        "    num_workers=4\n",
        "    )"
      ],
      "metadata": {
        "trusted": true,
        "id": "JTxVVx0yc5zF"
      },
      "execution_count": null,
      "outputs": []
    },
    {
      "cell_type": "code",
      "source": [
        "BATCH_SIZE = 16\n",
        "\n",
        "train_data_loader = create_data_loader(df_train, tokenizer, MAX_LEN, BATCH_SIZE)\n",
        "val_data_loader = create_data_loader(df_val, tokenizer, MAX_LEN, BATCH_SIZE)\n",
        "test_data_loader = create_data_loader(df_test, tokenizer, MAX_LEN, BATCH_SIZE)"
      ],
      "metadata": {
        "trusted": true,
        "id": "_pXopTMrc5zG"
      },
      "execution_count": null,
      "outputs": []
    },
    {
      "cell_type": "markdown",
      "source": [
        "Let's have a look at an example batch from our training data loader:"
      ],
      "metadata": {
        "id": "rMyo5HsRc5zG"
      }
    },
    {
      "cell_type": "code",
      "source": [
        "data = next(iter(train_data_loader))\n",
        "data.keys()\n"
      ],
      "metadata": {
        "trusted": true,
        "id": "pDwG3xuTc5zG",
        "outputId": "82c17a0e-764f-4b2a-983d-c2366a321b06"
      },
      "execution_count": null,
      "outputs": [
        {
          "execution_count": 40,
          "output_type": "execute_result",
          "data": {
            "text/plain": "dict_keys(['review_text', 'input_ids', 'attention_mask', 'targets'])"
          },
          "metadata": {}
        }
      ]
    },
    {
      "cell_type": "code",
      "source": [
        "print(data['input_ids'].shape)\n",
        "print(data['attention_mask'].shape)\n",
        "print(data['targets'].shape)"
      ],
      "metadata": {
        "trusted": true,
        "id": "ItPw8mYpc5zG",
        "outputId": "bd9c7d73-8eb4-4557-b72b-b87d285efbdb"
      },
      "execution_count": null,
      "outputs": [
        {
          "name": "stdout",
          "text": "torch.Size([16, 160])\ntorch.Size([16, 160])\ntorch.Size([16])\n",
          "output_type": "stream"
        }
      ]
    },
    {
      "cell_type": "markdown",
      "source": [
        "## Sentiment Classification with BERT and Hugging Face\n",
        "\n"
      ],
      "metadata": {
        "id": "u8Og2GxYc5zG"
      }
    },
    {
      "cell_type": "code",
      "source": [
        "bert_model = BertModel.from_pretrained(PRE_TRAINED_MODEL_NAME)"
      ],
      "metadata": {
        "trusted": true,
        "colab": {
          "referenced_widgets": [
            "bd7b576db90447abb07b4580d3b74a2f",
            "38479f6dc07c48afa10769c4798bedf3"
          ]
        },
        "id": "DJ_-tINFc5zG",
        "outputId": "f1aa32a5-47b7-472d-c8bf-f2490ea06b11"
      },
      "execution_count": null,
      "outputs": [
        {
          "output_type": "display_data",
          "data": {
            "text/plain": "Downloading:   0%|          | 0.00/433 [00:00<?, ?B/s]",
            "application/vnd.jupyter.widget-view+json": {
              "version_major": 2,
              "version_minor": 0,
              "model_id": "bd7b576db90447abb07b4580d3b74a2f"
            }
          },
          "metadata": {}
        },
        {
          "output_type": "display_data",
          "data": {
            "text/plain": "Downloading:   0%|          | 0.00/436M [00:00<?, ?B/s]",
            "application/vnd.jupyter.widget-view+json": {
              "version_major": 2,
              "version_minor": 0,
              "model_id": "38479f6dc07c48afa10769c4798bedf3"
            }
          },
          "metadata": {}
        }
      ]
    },
    {
      "cell_type": "markdown",
      "source": [
        "trying to use it on the encoding of our sample text:"
      ],
      "metadata": {
        "id": "AY58vF4ec5zG"
      }
    },
    {
      "cell_type": "code",
      "source": [
        "last_hidden_state, pooled_output = bert_model(\n",
        "  input_ids=encoding['input_ids'], \n",
        "  attention_mask=encoding['attention_mask']\n",
        ")"
      ],
      "metadata": {
        "trusted": true,
        "id": "s0BxeFBDc5zH"
      },
      "execution_count": null,
      "outputs": []
    },
    {
      "cell_type": "markdown",
      "source": [
        "The `last_hidden_state` is a sequence of hidden states of the last layer of the \n",
        "model. Obtaining the `pooled_output` is done by applying the [BertPooler](https://github.com/huggingface/transformers/blob/edf0582c0be87b60f94f41c659ea779876efc7be/src/transformers/modeling_bert.py#L426) on `last_hidden_state`:"
      ],
      "metadata": {
        "id": "XT7SHHlWc5zH"
      }
    },
    {
      "cell_type": "code",
      "source": [
        "bert_model.config.hidden_size"
      ],
      "metadata": {
        "trusted": true,
        "id": "ybN1hKcGc5zH",
        "outputId": "3b5a5851-6b2b-469a-9ff8-02e1b215d3c4"
      },
      "execution_count": null,
      "outputs": [
        {
          "execution_count": 44,
          "output_type": "execute_result",
          "data": {
            "text/plain": "768"
          },
          "metadata": {}
        }
      ]
    },
    {
      "cell_type": "markdown",
      "source": [
        "We can use all of this knowledge to create a classifier that uses the BERT model:\n"
      ],
      "metadata": {
        "id": "Gc4_K5O1c5zH"
      }
    },
    {
      "cell_type": "code",
      "source": [
        "class SentimentClassifier(nn.Module):\n",
        "\n",
        "    def __init__(self, n_classes):\n",
        "        super(SentimentClassifier, self).__init__()\n",
        "        self.bert = BertModel.from_pretrained(PRE_TRAINED_MODEL_NAME)\n",
        "        self.drop = nn.Dropout(p=0.3)\n",
        "        self.out = nn.Linear(self.bert.config.hidden_size, n_classes)\n",
        "  \n",
        "    def forward(self, input_ids, attention_mask):\n",
        "        _, pooled_output = self.bert(\n",
        "          input_ids=input_ids,\n",
        "          attention_mask=attention_mask\n",
        "    )\n",
        "        output = self.drop(pooled_output)\n",
        "        return self.out(output)"
      ],
      "metadata": {
        "trusted": true,
        "id": "_JeJ2FYlc5zH"
      },
      "execution_count": null,
      "outputs": []
    },
    {
      "cell_type": "markdown",
      "source": [
        "classifier delegates most of the heavy lifting to the BertModel. We use a dropout layer for some regularization and a fully-connected layer for our output. Note that we're returning the raw output of the last layer since that is required for the cross-entropy loss function in PyTorch to work.\n",
        "\n"
      ],
      "metadata": {
        "id": "_z9P9lazc5zH"
      }
    },
    {
      "cell_type": "code",
      "source": [
        "model = SentimentClassifier(len(sentiment_int))\n",
        "model = model.to(device)"
      ],
      "metadata": {
        "trusted": true,
        "id": "4kxxTSZLc5zH"
      },
      "execution_count": null,
      "outputs": []
    },
    {
      "cell_type": "markdown",
      "source": [
        "We'll move the example batch of our training data to the GPU:"
      ],
      "metadata": {
        "id": "-XAM4ZZEc5zH"
      }
    },
    {
      "cell_type": "code",
      "source": [
        "input_ids = data['input_ids'].to(device)\n",
        "attention_mask = data['attention_mask'].to(device)\n",
        "\n",
        "print(input_ids.shape) # batch size x seq length\n",
        "print(attention_mask.shape) # batch size x seq length"
      ],
      "metadata": {
        "trusted": true,
        "id": "ak1wU_BFc5zI",
        "outputId": "2b4f07c5-da1b-4739-b43b-d9f60961e91f"
      },
      "execution_count": null,
      "outputs": [
        {
          "name": "stdout",
          "text": "torch.Size([16, 160])\ntorch.Size([16, 160])\n",
          "output_type": "stream"
        }
      ]
    },
    {
      "cell_type": "markdown",
      "source": [
        "To get the predicted probabilities from our trained model, we'll apply the softmax function to the outputs:"
      ],
      "metadata": {
        "id": "nkWnb89bc5zI"
      }
    },
    {
      "cell_type": "code",
      "source": [
        "F.softmax(model(input_ids, attention_mask), dim=1)"
      ],
      "metadata": {
        "trusted": true,
        "id": "CtpNSCy6c5zI",
        "outputId": "61f941c7-9b2a-4287-fc38-7671d429ba8a"
      },
      "execution_count": null,
      "outputs": [
        {
          "execution_count": 48,
          "output_type": "execute_result",
          "data": {
            "text/plain": "tensor([[0.4198, 0.1604, 0.4198],\n        [0.5074, 0.1371, 0.3555],\n        [0.2923, 0.1527, 0.5551],\n        [0.5366, 0.1261, 0.3372],\n        [0.5925, 0.1732, 0.2344],\n        [0.3133, 0.1550, 0.5318],\n        [0.4136, 0.1174, 0.4690],\n        [0.3262, 0.2486, 0.4252],\n        [0.3136, 0.1479, 0.5385],\n        [0.2609, 0.2119, 0.5272],\n        [0.4041, 0.1655, 0.4304],\n        [0.4299, 0.1882, 0.3819],\n        [0.5332, 0.0896, 0.3772],\n        [0.4864, 0.1561, 0.3575],\n        [0.4005, 0.1751, 0.4243],\n        [0.3631, 0.2006, 0.4363]], device='cuda:0', grad_fn=<SoftmaxBackward>)"
          },
          "metadata": {}
        }
      ]
    },
    {
      "cell_type": "markdown",
      "source": [
        "### Training\n",
        "\n"
      ],
      "metadata": {
        "id": "X6UfnsXbc5zI"
      }
    },
    {
      "cell_type": "code",
      "source": [
        "EPOCHS = 5\n",
        "\n",
        "optimizer = AdamW(model.parameters(), lr=2e-5, correct_bias=False)\n",
        "total_steps = len(train_data_loader) * EPOCHS\n",
        "\n",
        "scheduler = get_linear_schedule_with_warmup(\n",
        "  optimizer,\n",
        "  num_warmup_steps=0,\n",
        "  num_training_steps=total_steps\n",
        ")\n",
        "\n",
        "loss_fn = nn.NLLLoss().to(device)"
      ],
      "metadata": {
        "trusted": true,
        "id": "I3GioELkc5zL"
      },
      "execution_count": null,
      "outputs": []
    },
    {
      "cell_type": "code",
      "source": [
        "def train_epoch(\n",
        "      model,\n",
        "      data_loader,\n",
        "      loss_fn,\n",
        "      optimizer,\n",
        "      device,\n",
        "      scheduler,\n",
        "      n_examples\n",
        "    ):\n",
        "    \n",
        "    model = model.train()\n",
        "    losses = []\n",
        "    correct_predictions = 0\n",
        "    for d in data_loader:   \n",
        "        input_ids = d[\"input_ids\"].to(device)\n",
        "        attention_mask = d[\"attention_mask\"].to(device)\n",
        "        targets = d[\"targets\"].to(device)\n",
        "        outputs = model(\n",
        "          input_ids=input_ids,\n",
        "          attention_mask=attention_mask\n",
        "        )\n",
        "    _, preds = torch.max(outputs, dim=1)\n",
        "    loss = loss_fn(outputs, targets)\n",
        "    correct_predictions += torch.sum(preds == targets)\n",
        "    losses.append(loss.item())\n",
        "    loss.backward()\n",
        "    nn.utils.clip_grad_norm_(model.parameters(), max_norm=1.0)\n",
        "    optimizer.step()\n",
        "    scheduler.step()\n",
        "    optimizer.zero_grad()\n",
        "    \n",
        "    return correct_predictions.double() / n_examples, np.mean(losses)"
      ],
      "metadata": {
        "trusted": true,
        "id": "xVkzgE9cc5zL"
      },
      "execution_count": null,
      "outputs": []
    },
    {
      "cell_type": "markdown",
      "source": [
        "\n",
        "\n",
        "writing another one that helps us evaluate the model on a given data loader:"
      ],
      "metadata": {
        "id": "-d3JWUh3c5zL"
      }
    },
    {
      "cell_type": "code",
      "source": [
        "def eval_model(model, data_loader, loss_fn, device, n_examples):\n",
        "    \n",
        "    model = model.eval()\n",
        "\n",
        "    losses = []\n",
        "    correct_predictions = 0\n",
        "\n",
        "    with torch.no_grad():\n",
        "        for d in data_loader:        \n",
        "            input_ids = d[\"input_ids\"].to(device)\n",
        "            attention_mask = d[\"attention_mask\"].to(device)\n",
        "            targets = d[\"targets\"].to(device)\n",
        "\n",
        "            outputs = model(\n",
        "                input_ids=input_ids,\n",
        "                attention_mask=attention_mask\n",
        "              )\n",
        "            _, preds = torch.max(outputs, dim=1)\n",
        "\n",
        "            loss = loss_fn(outputs, targets)\n",
        "\n",
        "            correct_predictions += torch.sum(preds == targets)\n",
        "            losses.append(loss.item())\n",
        "\n",
        "    return correct_predictions.double() / n_examples, np.mean(losses)"
      ],
      "metadata": {
        "trusted": true,
        "id": "ik_FfD_cc5zL"
      },
      "execution_count": null,
      "outputs": []
    },
    {
      "cell_type": "code",
      "source": [
        "%%time\n",
        "\n",
        "history = defaultdict(list)\n",
        "best_accuracy = 0\n",
        "\n",
        "for epoch in range(EPOCHS):\n",
        "    \n",
        "\n",
        "    print(f'Epoch {epoch + 1}/{EPOCHS}')\n",
        "    print('-' * 10)\n",
        "\n",
        "    train_acc, train_loss = train_epoch(\n",
        "    model,\n",
        "    train_data_loader,    \n",
        "    loss_fn, \n",
        "    optimizer, \n",
        "    device, \n",
        "    scheduler, \n",
        "    len(df_train)\n",
        "  )\n",
        "\n",
        "    print(f'Train loss {train_loss}')\n",
        "\n",
        "    val_acc, val_loss = eval_model(\n",
        "    model,\n",
        "    val_data_loader,\n",
        "    loss_fn, \n",
        "    device, \n",
        "    len(df_val)\n",
        "  )\n",
        "\n",
        "    print(f'Val   loss {val_loss} accuracy {val_acc}')\n",
        "    print()\n",
        "\n",
        "    history['train_acc'].append(train_acc)\n",
        "    history['train_loss'].append(train_loss)\n",
        "    history['val_acc'].append(val_acc)\n",
        "    history['val_loss'].append(val_loss)\n",
        "\n",
        "    if val_acc > best_accuracy:\n",
        "        torch.save(model.state_dict(), 'best_model_state.bin')\n",
        "        best_accuracy = val_acc"
      ],
      "metadata": {
        "trusted": true,
        "id": "hpIo3VNVc5zL",
        "outputId": "fee90240-af0b-43d0-9596-0e8239ee4ed2"
      },
      "execution_count": null,
      "outputs": [
        {
          "name": "stdout",
          "text": "Epoch 1/5\n----------\nTrain loss -0.14609210193157196\nVal   loss -0.39961609230675826 accuracy 0.5979202772963604\n\nEpoch 2/5\n----------\nTrain loss -0.5369319319725037\nVal   loss -0.5754839272127239 accuracy 0.6793760831889081\n\nEpoch 3/5\n----------\nTrain loss -0.5830699801445007\nVal   loss -0.7798190319210018 accuracy 0.681109185441941\n\nEpoch 4/5\n----------\nTrain loss -0.7421676516532898\nVal   loss -0.96623898154005 accuracy 0.68053148469093\n\nEpoch 5/5\n----------\nTrain loss -1.1410692930221558\nVal   loss -1.2220094411744984 accuracy 0.6782206816868862\n\nCPU times: user 15min 49s, sys: 8.98 s, total: 15min 58s\nWall time: 16min 16s\n",
          "output_type": "stream"
        }
      ]
    },
    {
      "cell_type": "markdown",
      "source": [
        "we are storing the state of the best model, indicated by the highest validation accuracy.\n",
        "\n"
      ],
      "metadata": {
        "id": "zR68HsGvc5zM"
      }
    },
    {
      "cell_type": "code",
      "source": [
        "plt.plot(history['train_loss'], label='train loss')\n",
        "plt.plot(history['val_loss'], label='validation loss')\n",
        "\n",
        "plt.title('Training history')\n",
        "plt.ylabel('Loss')\n",
        "plt.xlabel('Epoch')\n",
        "plt.legend()\n",
        "# plt.ylim([0, 1]);"
      ],
      "metadata": {
        "trusted": true,
        "id": "9sYZh1ARc5zM",
        "outputId": "5f7c0410-8787-40c6-b38a-e98f1db490f3"
      },
      "execution_count": null,
      "outputs": [
        {
          "execution_count": 55,
          "output_type": "execute_result",
          "data": {
            "text/plain": "[<matplotlib.lines.Line2D at 0x7f5dd2018250>]"
          },
          "metadata": {}
        },
        {
          "execution_count": 55,
          "output_type": "execute_result",
          "data": {
            "text/plain": "[<matplotlib.lines.Line2D at 0x7f5dd2018910>]"
          },
          "metadata": {}
        },
        {
          "execution_count": 55,
          "output_type": "execute_result",
          "data": {
            "text/plain": "Text(0.5, 1.0, 'Training history')"
          },
          "metadata": {}
        },
        {
          "execution_count": 55,
          "output_type": "execute_result",
          "data": {
            "text/plain": "Text(0, 0.5, 'Loss')"
          },
          "metadata": {}
        },
        {
          "execution_count": 55,
          "output_type": "execute_result",
          "data": {
            "text/plain": "Text(0.5, 0, 'Epoch')"
          },
          "metadata": {}
        },
        {
          "execution_count": 55,
          "output_type": "execute_result",
          "data": {
            "text/plain": "<matplotlib.legend.Legend at 0x7f5dd2053090>"
          },
          "metadata": {}
        },
        {
          "output_type": "display_data",
          "data": {
            "text/plain": "<Figure size 864x576 with 1 Axes>",
            "image/png": "[encoded data removed]"
          },
          "metadata": {
            "image/png": {
              "width": 743,
              "height": 506
            }
          }
        }
      ]
    },
    {
      "cell_type": "markdown",
      "source": [
        "## Evaluation\n",
        "\n",
        "calculating the accuracy on the test data:"
      ],
      "metadata": {
        "id": "mIh9yCF3c5zM"
      }
    },
    {
      "cell_type": "code",
      "source": [
        "test_acc, _ = eval_model(\n",
        "  model,\n",
        "  test_data_loader,\n",
        "  loss_fn,\n",
        "  device,\n",
        "  len(df_test)\n",
        ")\n",
        "\n",
        "test_acc.item()"
      ],
      "metadata": {
        "trusted": true,
        "id": "nZ9XegSbc5zM",
        "outputId": "169b7ff0-f972-430f-d99a-049c66db7352"
      },
      "execution_count": null,
      "outputs": [
        {
          "execution_count": 56,
          "output_type": "execute_result",
          "data": {
            "text/plain": "0.6772517321016166"
          },
          "metadata": {}
        }
      ]
    },
    {
      "cell_type": "markdown",
      "source": [
        "We'll define a helper function to get the predictions from our model:"
      ],
      "metadata": {
        "id": "8g9YjP5Xc5zM"
      }
    },
    {
      "cell_type": "code",
      "source": [
        "def get_predictions(model, data_loader):\n",
        "\n",
        "    model = model.eval()\n",
        "\n",
        "    review_texts = []\n",
        "    predictions = []\n",
        "    prediction_probs = []\n",
        "    real_values = []\n",
        "\n",
        "    with torch.no_grad():\n",
        "        for d in data_loader:\n",
        "            texts = d[\"review_text\"]\n",
        "            input_ids = d[\"input_ids\"].to(device)\n",
        "            attention_mask = d[\"attention_mask\"].to(device)\n",
        "            targets = d[\"targets\"].to(device)\n",
        "\n",
        "    outputs = model(\n",
        "        input_ids=input_ids,\n",
        "        attention_mask=attention_mask\n",
        "      )\n",
        "    _, preds = torch.max(outputs, dim=1)\n",
        "\n",
        "    probs = F.softmax(outputs, dim=1)\n",
        "\n",
        "    review_texts.extend(texts)\n",
        "    predictions.extend(preds)\n",
        "    prediction_probs.extend(probs)\n",
        "    real_values.extend(targets)\n",
        "\n",
        "    predictions = torch.stack(predictions).cpu()\n",
        "    prediction_probs = torch.stack(prediction_probs).cpu()\n",
        "    real_values = torch.stack(real_values).cpu()\n",
        "    return review_texts, predictions, prediction_probs, real_values"
      ],
      "metadata": {
        "trusted": true,
        "id": "swPvLWCxc5zM"
      },
      "execution_count": null,
      "outputs": []
    },
    {
      "cell_type": "markdown",
      "source": [
        "This is similar to the evaluation function, except that we're storing the text of the reviews and the predicted probabilities (by applying the softmax on the model outputs):"
      ],
      "metadata": {
        "id": "igrjkeJdc5zN"
      }
    },
    {
      "cell_type": "code",
      "source": [
        "y_review_texts, y_pred, y_pred_probs, y_test = get_predictions(\n",
        "  model,\n",
        "  test_data_loader\n",
        ")"
      ],
      "metadata": {
        "trusted": true,
        "id": "Tu-kwGKHc5zN"
      },
      "execution_count": null,
      "outputs": []
    },
    {
      "cell_type": "markdown",
      "source": [
        "Let's have a look at the classification report"
      ],
      "metadata": {
        "id": "Za3NbSp-c5zN"
      }
    },
    {
      "cell_type": "code",
      "source": [
        "print(classification_report(y_test, y_pred))"
      ],
      "metadata": {
        "trusted": true,
        "id": "tsrmiHtbc5zN",
        "outputId": "4cb9e7b8-f54b-4252-a749-ef58f4b2b556"
      },
      "execution_count": null,
      "outputs": [
        {
          "name": "stdout",
          "text": "              precision    recall  f1-score   support\n\n           0       1.00      1.00      1.00         4\n\n    accuracy                           1.00         4\n   macro avg       1.00      1.00      1.00         4\nweighted avg       1.00      1.00      1.00         4\n\n",
          "output_type": "stream"
        }
      ]
    }
  ]
}